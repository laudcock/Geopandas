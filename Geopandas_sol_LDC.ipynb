{
 "cells": [
  {
   "cell_type": "markdown",
   "metadata": {},
   "source": [
    "# Geopandas"
   ]
  },
  {
   "cell_type": "markdown",
   "metadata": {},
   "source": [
    "Geopandas is a python library, based on Pandas (week 1), to work with geospatial data. You can use it to do all kinds of GIS-based calculations, without using a GIS. \n",
    "Disadvantage: all code, advantage: all code! "
   ]
  },
  {
   "cell_type": "markdown",
   "metadata": {
    "ExecuteTime": {
     "end_time": "2021-03-12T12:30:32.198666Z",
     "start_time": "2021-03-12T12:30:32.167417Z"
    }
   },
   "source": [
    "Documentation: https://geopandas.org/"
   ]
  },
  {
   "cell_type": "markdown",
   "metadata": {},
   "source": [
    "This notebook is based on the tutorial of Joris Van den Bossche (geopandas creator): https://github.com/jorisvandenbossche/geopandas-tutorial#installation-notes. Instructions to install Geopandas on your device can be found on his github, but as installing packages on different computers always gives errors we work in a predefined digital environment called binder. The binder loads all necessary packages for you based on the environment.yml file. So this should work..."
   ]
  },
  {
   "cell_type": "code",
   "execution_count": 274,
   "metadata": {
    "ExecuteTime": {
     "end_time": "2021-03-15T13:57:04.019031Z",
     "start_time": "2021-03-15T13:57:03.987781Z"
    }
   },
   "outputs": [],
   "source": [
    "%matplotlib inline\n",
    "\n",
    "import pandas as pd\n",
    "import geopandas"
   ]
  },
  {
   "cell_type": "markdown",
   "metadata": {},
   "source": [
    "<b>Attention: changes that you make to a notebook in binder won't be saved for the next time you launch the binder. So make sure to download your notebook when your finnished.</b>"
   ]
  },
  {
   "cell_type": "markdown",
   "metadata": {},
   "source": [
    "## Importing geospatial data"
   ]
  },
  {
   "cell_type": "markdown",
   "metadata": {},
   "source": [
    "Geospatial data is often available from specific GIS file formats or data stores, like ESRI shapefiles, GeoJSON files, geopackage files, PostGIS (PostgreSQL) database, ...\n",
    "\n",
    "We can use the GeoPandas library to read many of those GIS file formats (relying on the `fiona` library under the hood, which is an interface to GDAL/OGR), using the `geopandas.read_file` function.\n",
    "\n",
    "For example, let's start by reading a shapefile with all the countries of the world (adapted from http://www.naturalearthdata.com/downloads/110m-cultural-vectors/110m-admin-0-countries/, zip file is available in the `/data` directory), and inspect the data:"
   ]
  },
  {
   "cell_type": "code",
   "execution_count": 275,
   "metadata": {
    "ExecuteTime": {
     "end_time": "2021-03-15T13:57:04.081515Z",
     "start_time": "2021-03-15T13:57:04.019031Z"
    }
   },
   "outputs": [],
   "source": [
    "countries = geopandas.read_file(\"zip://./data/ne_110m_admin_0_countries.zip\")\n",
    "# or if the archive is unpacked:\n",
    "# countries = geopandas.read_file(\"data/ne_110m_admin_0_countries/ne_110m_admin_0_countries.shp\")"
   ]
  },
  {
   "cell_type": "code",
   "execution_count": 276,
   "metadata": {
    "ExecuteTime": {
     "end_time": "2021-03-15T13:57:04.119270Z",
     "start_time": "2021-03-15T13:57:04.081515Z"
    },
    "scrolled": true
   },
   "outputs": [
    {
     "data": {
      "text/html": [
       "<div>\n",
       "<style scoped>\n",
       "    .dataframe tbody tr th:only-of-type {\n",
       "        vertical-align: middle;\n",
       "    }\n",
       "\n",
       "    .dataframe tbody tr th {\n",
       "        vertical-align: top;\n",
       "    }\n",
       "\n",
       "    .dataframe thead th {\n",
       "        text-align: right;\n",
       "    }\n",
       "</style>\n",
       "<table border=\"1\" class=\"dataframe\">\n",
       "  <thead>\n",
       "    <tr style=\"text-align: right;\">\n",
       "      <th></th>\n",
       "      <th>iso_a3</th>\n",
       "      <th>name</th>\n",
       "      <th>continent</th>\n",
       "      <th>pop_est</th>\n",
       "      <th>gdp_md_est</th>\n",
       "      <th>geometry</th>\n",
       "    </tr>\n",
       "  </thead>\n",
       "  <tbody>\n",
       "    <tr>\n",
       "      <th>0</th>\n",
       "      <td>AFG</td>\n",
       "      <td>Afghanistan</td>\n",
       "      <td>Asia</td>\n",
       "      <td>34124811.0</td>\n",
       "      <td>64080.0</td>\n",
       "      <td>POLYGON ((61.21082 35.65007, 62.23065 35.27066...</td>\n",
       "    </tr>\n",
       "    <tr>\n",
       "      <th>1</th>\n",
       "      <td>AGO</td>\n",
       "      <td>Angola</td>\n",
       "      <td>Africa</td>\n",
       "      <td>29310273.0</td>\n",
       "      <td>189000.0</td>\n",
       "      <td>MULTIPOLYGON (((23.90415 -11.72228, 24.07991 -...</td>\n",
       "    </tr>\n",
       "    <tr>\n",
       "      <th>2</th>\n",
       "      <td>ALB</td>\n",
       "      <td>Albania</td>\n",
       "      <td>Europe</td>\n",
       "      <td>3047987.0</td>\n",
       "      <td>33900.0</td>\n",
       "      <td>POLYGON ((21.02004 40.84273, 20.99999 40.58000...</td>\n",
       "    </tr>\n",
       "    <tr>\n",
       "      <th>3</th>\n",
       "      <td>ARE</td>\n",
       "      <td>United Arab Emirates</td>\n",
       "      <td>Asia</td>\n",
       "      <td>6072475.0</td>\n",
       "      <td>667200.0</td>\n",
       "      <td>POLYGON ((51.57952 24.24550, 51.75744 24.29407...</td>\n",
       "    </tr>\n",
       "    <tr>\n",
       "      <th>4</th>\n",
       "      <td>ARG</td>\n",
       "      <td>Argentina</td>\n",
       "      <td>South America</td>\n",
       "      <td>44293293.0</td>\n",
       "      <td>879400.0</td>\n",
       "      <td>MULTIPOLYGON (((-66.95992 -54.89681, -67.56244...</td>\n",
       "    </tr>\n",
       "  </tbody>\n",
       "</table>\n",
       "</div>"
      ],
      "text/plain": [
       "  iso_a3                  name      continent     pop_est  gdp_md_est  \\\n",
       "0    AFG           Afghanistan           Asia  34124811.0     64080.0   \n",
       "1    AGO                Angola         Africa  29310273.0    189000.0   \n",
       "2    ALB               Albania         Europe   3047987.0     33900.0   \n",
       "3    ARE  United Arab Emirates           Asia   6072475.0    667200.0   \n",
       "4    ARG             Argentina  South America  44293293.0    879400.0   \n",
       "\n",
       "                                            geometry  \n",
       "0  POLYGON ((61.21082 35.65007, 62.23065 35.27066...  \n",
       "1  MULTIPOLYGON (((23.90415 -11.72228, 24.07991 -...  \n",
       "2  POLYGON ((21.02004 40.84273, 20.99999 40.58000...  \n",
       "3  POLYGON ((51.57952 24.24550, 51.75744 24.29407...  \n",
       "4  MULTIPOLYGON (((-66.95992 -54.89681, -67.56244...  "
      ]
     },
     "execution_count": 276,
     "metadata": {},
     "output_type": "execute_result"
    }
   ],
   "source": [
    "countries.head() "
   ]
  },
  {
   "cell_type": "code",
   "execution_count": 277,
   "metadata": {
    "ExecuteTime": {
     "end_time": "2021-03-15T13:57:04.420005Z",
     "start_time": "2021-03-15T13:57:04.119270Z"
    }
   },
   "outputs": [
    {
     "data": {
      "text/plain": [
       "<matplotlib.axes._subplots.AxesSubplot at 0x235621991d0>"
      ]
     },
     "execution_count": 277,
     "metadata": {},
     "output_type": "execute_result"
    },
    {
     "data": {
      "image/png": "[encoded data removed]",
      "text/plain": [
       "<Figure size 432x288 with 1 Axes>"
      ]
     },
     "metadata": {
      "needs_background": "light"
     },
     "output_type": "display_data"
    }
   ],
   "source": [
    "countries.plot()"
   ]
  },
  {
   "cell_type": "markdown",
   "metadata": {},
   "source": [
    "What can we observe:\n",
    "\n",
    "- Using `.head()` we can see the first rows of the dataset, just like we can do with Pandas.\n",
    "- There is a 'geometry' column and the different countries are represented as polygons\n",
    "- We can use the geopandas `.plot()` method to quickly get a *basic* visualization of the data. Other python libraries for cartographic vizualisation are for example cartopy, geoplot, plotly, folium, ipyleaflet,..."
   ]
  },
  {
   "cell_type": "markdown",
   "metadata": {},
   "source": [
    "### What's a GeoDataFrame?\n",
    "\n",
    "We used the GeoPandas library to read in the geospatial data, and this returned us a `GeoDataFrame`:"
   ]
  },
  {
   "cell_type": "code",
   "execution_count": 278,
   "metadata": {
    "ExecuteTime": {
     "end_time": "2021-03-15T13:57:04.435625Z",
     "start_time": "2021-03-15T13:57:04.420005Z"
    }
   },
   "outputs": [
    {
     "data": {
      "text/plain": [
       "geopandas.geodataframe.GeoDataFrame"
      ]
     },
     "execution_count": 278,
     "metadata": {},
     "output_type": "execute_result"
    }
   ],
   "source": [
    "type(countries)"
   ]
  },
  {
   "cell_type": "markdown",
   "metadata": {},
   "source": [
    "Such a `GeoDataFrame` is just like a pandas `DataFrame`, but with some additional functionality for working with geospatial data:\n",
    "\n",
    "* It has a **'geometry' column** that holds the geometry information (or features in GeoJSON). The column name itself does not necessarily need to be 'geometry', but it will always be accessible as the `.geometry` attribute.\n",
    "* The other columns are the **attributes** (or properties in GeoJSON) that describe each of the geometries"
   ]
  },
  {
   "cell_type": "code",
   "execution_count": 279,
   "metadata": {
    "ExecuteTime": {
     "end_time": "2021-03-15T13:57:04.451246Z",
     "start_time": "2021-03-15T13:57:04.435625Z"
    }
   },
   "outputs": [
    {
     "data": {
      "text/plain": [
       "0      POLYGON ((61.21082 35.65007, 62.23065 35.27066...\n",
       "1      MULTIPOLYGON (((23.90415 -11.72228, 24.07991 -...\n",
       "2      POLYGON ((21.02004 40.84273, 20.99999 40.58000...\n",
       "3      POLYGON ((51.57952 24.24550, 51.75744 24.29407...\n",
       "4      MULTIPOLYGON (((-66.95992 -54.89681, -67.56244...\n",
       "                             ...                        \n",
       "172    MULTIPOLYGON (((167.84488 -16.46633, 167.51518...\n",
       "173    POLYGON ((52.00001 19.00000, 52.78218 17.34974...\n",
       "174    POLYGON ((19.89577 -24.76779, 20.16573 -24.917...\n",
       "175    POLYGON ((23.21505 -17.52312, 22.56248 -16.898...\n",
       "176    POLYGON ((29.43219 -22.09131, 28.79466 -21.639...\n",
       "Name: geometry, Length: 177, dtype: geometry"
      ]
     },
     "execution_count": 279,
     "metadata": {},
     "output_type": "execute_result"
    }
   ],
   "source": [
    "countries.geometry"
   ]
  },
  {
   "cell_type": "markdown",
   "metadata": {},
   "source": [
    "The geometry column (or series) can be used for geometrical calculations. "
   ]
  },
  {
   "cell_type": "code",
   "execution_count": 280,
   "metadata": {
    "ExecuteTime": {
     "end_time": "2021-03-15T13:57:04.466867Z",
     "start_time": "2021-03-15T13:57:04.451246Z"
    }
   },
   "outputs": [
    {
     "data": {
      "text/plain": [
       "0       63.593500\n",
       "1      103.599439\n",
       "2        3.185163\n",
       "3        7.095047\n",
       "4      278.923392\n",
       "          ...    \n",
       "172      0.631326\n",
       "173     38.475618\n",
       "174    112.718524\n",
       "175     62.789498\n",
       "176     32.280371\n",
       "Length: 177, dtype: float64"
      ]
     },
     "execution_count": 280,
     "metadata": {},
     "output_type": "execute_result"
    }
   ],
   "source": [
    "countries.geometry.area"
   ]
  },
  {
   "cell_type": "markdown",
   "metadata": {},
   "source": [
    "**It's still a DataFrame**, so we have all the pandas functionality available to use on the geospatial dataset, and to do data manipulations with the attributes and geometry information together.\n",
    "\n",
    "For example, we can calculate average population number over all countries (by accessing the 'pop_est' column, and calling the `mean` method on it):"
   ]
  },
  {
   "cell_type": "code",
   "execution_count": 281,
   "metadata": {
    "ExecuteTime": {
     "end_time": "2021-03-15T13:57:04.482488Z",
     "start_time": "2021-03-15T13:57:04.466867Z"
    }
   },
   "outputs": [
    {
     "data": {
      "text/plain": [
       "41712369.84180791"
      ]
     },
     "execution_count": 281,
     "metadata": {},
     "output_type": "execute_result"
    }
   ],
   "source": [
    "countries['pop_est'].mean()"
   ]
  },
  {
   "cell_type": "markdown",
   "metadata": {},
   "source": [
    "Or, we can use boolean filtering to select a subset of the dataframe based on a condition:"
   ]
  },
  {
   "cell_type": "code",
   "execution_count": 282,
   "metadata": {
    "ExecuteTime": {
     "end_time": "2021-03-15T13:57:04.504623Z",
     "start_time": "2021-03-15T13:57:04.482488Z"
    }
   },
   "outputs": [],
   "source": [
    "africa = countries[countries['continent'] == 'Africa']"
   ]
  },
  {
   "cell_type": "code",
   "execution_count": 283,
   "metadata": {
    "ExecuteTime": {
     "end_time": "2021-03-15T13:57:04.720747Z",
     "start_time": "2021-03-15T13:57:04.504623Z"
    }
   },
   "outputs": [
    {
     "data": {
      "text/plain": [
       "<matplotlib.axes._subplots.AxesSubplot at 0x23561f58208>"
      ]
     },
     "execution_count": 283,
     "metadata": {},
     "output_type": "execute_result"
    },
    {
     "data": {
      "image/png": "[encoded data removed]",
      "text/plain": [
       "<Figure size 432x288 with 1 Axes>"
      ]
     },
     "metadata": {
      "needs_background": "light"
     },
     "output_type": "display_data"
    }
   ],
   "source": [
    "africa.plot()"
   ]
  },
  {
   "cell_type": "markdown",
   "metadata": {},
   "source": [
    "<div class=\"alert alert-info\" style=\"font-size:120%\">\n",
    "\n",
    "**REMEMBER:** <br>\n",
    "\n",
    "* A `GeoDataFrame` allows to perform typical tabular data analysis together with spatial operations\n",
    "* A `GeoDataFrame` (or *Feature Collection*) consists of:\n",
    "    * **Geometries** or **features**: the spatial objects\n",
    "    * **Attributes** or **properties**: columns with information about each spatial object\n",
    "\n",
    "</div>"
   ]
  },
  {
   "cell_type": "markdown",
   "metadata": {},
   "source": [
    "### Geometries: Points, Linestrings and Polygons\n",
    "\n",
    "Spatial **vector** data can consist of different types, and the 3 fundamental types are:\n",
    "\n",
    "![](img/simple_features_3_text.svg)\n",
    "\n",
    "* **Point** data: represents a single point in space.\n",
    "* **Line** data (\"LineString\"): represents a sequence of points that form a line.\n",
    "* **Polygon** data: represents a filled area.\n"
   ]
  },
  {
   "cell_type": "markdown",
   "metadata": {},
   "source": [
    "For the example we have seen up to now, the individual geometry objects are Polygons:"
   ]
  },
  {
   "cell_type": "code",
   "execution_count": 284,
   "metadata": {
    "ExecuteTime": {
     "end_time": "2021-03-15T13:57:04.751992Z",
     "start_time": "2021-03-15T13:57:04.720747Z"
    }
   },
   "outputs": [
    {
     "data": {
      "text/html": [
       "<div>\n",
       "<style scoped>\n",
       "    .dataframe tbody tr th:only-of-type {\n",
       "        vertical-align: middle;\n",
       "    }\n",
       "\n",
       "    .dataframe tbody tr th {\n",
       "        vertical-align: top;\n",
       "    }\n",
       "\n",
       "    .dataframe thead th {\n",
       "        text-align: right;\n",
       "    }\n",
       "</style>\n",
       "<table border=\"1\" class=\"dataframe\">\n",
       "  <thead>\n",
       "    <tr style=\"text-align: right;\">\n",
       "      <th></th>\n",
       "      <th>iso_a3</th>\n",
       "      <th>name</th>\n",
       "      <th>continent</th>\n",
       "      <th>pop_est</th>\n",
       "      <th>gdp_md_est</th>\n",
       "      <th>geometry</th>\n",
       "    </tr>\n",
       "  </thead>\n",
       "  <tbody>\n",
       "    <tr>\n",
       "      <th>0</th>\n",
       "      <td>AFG</td>\n",
       "      <td>Afghanistan</td>\n",
       "      <td>Asia</td>\n",
       "      <td>34124811.0</td>\n",
       "      <td>64080.0</td>\n",
       "      <td>POLYGON ((61.21082 35.65007, 62.23065 35.27066...</td>\n",
       "    </tr>\n",
       "    <tr>\n",
       "      <th>1</th>\n",
       "      <td>AGO</td>\n",
       "      <td>Angola</td>\n",
       "      <td>Africa</td>\n",
       "      <td>29310273.0</td>\n",
       "      <td>189000.0</td>\n",
       "      <td>MULTIPOLYGON (((23.90415 -11.72228, 24.07991 -...</td>\n",
       "    </tr>\n",
       "    <tr>\n",
       "      <th>2</th>\n",
       "      <td>ALB</td>\n",
       "      <td>Albania</td>\n",
       "      <td>Europe</td>\n",
       "      <td>3047987.0</td>\n",
       "      <td>33900.0</td>\n",
       "      <td>POLYGON ((21.02004 40.84273, 20.99999 40.58000...</td>\n",
       "    </tr>\n",
       "    <tr>\n",
       "      <th>3</th>\n",
       "      <td>ARE</td>\n",
       "      <td>United Arab Emirates</td>\n",
       "      <td>Asia</td>\n",
       "      <td>6072475.0</td>\n",
       "      <td>667200.0</td>\n",
       "      <td>POLYGON ((51.57952 24.24550, 51.75744 24.29407...</td>\n",
       "    </tr>\n",
       "    <tr>\n",
       "      <th>4</th>\n",
       "      <td>ARG</td>\n",
       "      <td>Argentina</td>\n",
       "      <td>South America</td>\n",
       "      <td>44293293.0</td>\n",
       "      <td>879400.0</td>\n",
       "      <td>MULTIPOLYGON (((-66.95992 -54.89681, -67.56244...</td>\n",
       "    </tr>\n",
       "  </tbody>\n",
       "</table>\n",
       "</div>"
      ],
      "text/plain": [
       "  iso_a3                  name      continent     pop_est  gdp_md_est  \\\n",
       "0    AFG           Afghanistan           Asia  34124811.0     64080.0   \n",
       "1    AGO                Angola         Africa  29310273.0    189000.0   \n",
       "2    ALB               Albania         Europe   3047987.0     33900.0   \n",
       "3    ARE  United Arab Emirates           Asia   6072475.0    667200.0   \n",
       "4    ARG             Argentina  South America  44293293.0    879400.0   \n",
       "\n",
       "                                            geometry  \n",
       "0  POLYGON ((61.21082 35.65007, 62.23065 35.27066...  \n",
       "1  MULTIPOLYGON (((23.90415 -11.72228, 24.07991 -...  \n",
       "2  POLYGON ((21.02004 40.84273, 20.99999 40.58000...  \n",
       "3  POLYGON ((51.57952 24.24550, 51.75744 24.29407...  \n",
       "4  MULTIPOLYGON (((-66.95992 -54.89681, -67.56244...  "
      ]
     },
     "execution_count": 284,
     "metadata": {},
     "output_type": "execute_result"
    }
   ],
   "source": [
    "countries.head()"
   ]
  },
  {
   "cell_type": "code",
   "execution_count": 285,
   "metadata": {
    "ExecuteTime": {
     "end_time": "2021-03-15T13:57:04.767611Z",
     "start_time": "2021-03-15T13:57:04.751992Z"
    }
   },
   "outputs": [
    {
     "name": "stdout",
     "output_type": "stream",
     "text": [
      "POLYGON ((21.0200403174764 40.84272695572588, 20.99998986174722 40.58000397395401, 20.67499677906363 40.43499990494303, 20.61500044117275 40.11000682225935, 20.15001590341052 39.62499766698397, 19.98000044117015 39.69499339452341, 19.96000166187321 39.91500580500605, 19.40608198413673 40.25077342382247, 19.31905887215714 40.72723012955356, 19.40354983895429 41.40956574153546, 19.54002729663711 41.71998607031276, 19.37176883309496 41.87754751237065, 19.37176816334725 41.8775506797835, 19.30448611825079 42.19574514420782, 19.73805138517963 42.68824738216557, 19.80161339689869 42.50009349219084, 20.07070000000004 42.58863000000008, 20.28375451018189 42.32025950781508, 20.52295000000004 42.21787000000006, 20.59024654668023 41.85540891928363, 20.59024743010491 41.85540416113361, 20.4631750830992 41.51508901627534, 20.60518191903736 41.08622630468523, 21.0200403174764 40.84272695572588))\n"
     ]
    }
   ],
   "source": [
    "print(countries.geometry[2])"
   ]
  },
  {
   "cell_type": "markdown",
   "metadata": {},
   "source": [
    "Let's import some other datasets with different types of geometry objects.\n",
    "\n",
    "A dateset about cities in the world (adapted from http://www.naturalearthdata.com/downloads/110m-cultural-vectors/110m-populated-places/, zip file is available in the `/data` directory), consisting of Point data:"
   ]
  },
  {
   "cell_type": "code",
   "execution_count": 286,
   "metadata": {
    "ExecuteTime": {
     "end_time": "2021-03-15T13:57:04.836612Z",
     "start_time": "2021-03-15T13:57:04.767611Z"
    }
   },
   "outputs": [],
   "source": [
    "cities = geopandas.read_file(\"zip://./data/ne_110m_populated_places.zip\")"
   ]
  },
  {
   "cell_type": "code",
   "execution_count": 287,
   "metadata": {
    "ExecuteTime": {
     "end_time": "2021-03-15T13:57:04.867853Z",
     "start_time": "2021-03-15T13:57:04.836612Z"
    }
   },
   "outputs": [
    {
     "data": {
      "text/html": [
       "<div>\n",
       "<style scoped>\n",
       "    .dataframe tbody tr th:only-of-type {\n",
       "        vertical-align: middle;\n",
       "    }\n",
       "\n",
       "    .dataframe tbody tr th {\n",
       "        vertical-align: top;\n",
       "    }\n",
       "\n",
       "    .dataframe thead th {\n",
       "        text-align: right;\n",
       "    }\n",
       "</style>\n",
       "<table border=\"1\" class=\"dataframe\">\n",
       "  <thead>\n",
       "    <tr style=\"text-align: right;\">\n",
       "      <th></th>\n",
       "      <th>name</th>\n",
       "      <th>geometry</th>\n",
       "    </tr>\n",
       "  </thead>\n",
       "  <tbody>\n",
       "    <tr>\n",
       "      <th>0</th>\n",
       "      <td>Vatican City</td>\n",
       "      <td>POINT (12.45339 41.90328)</td>\n",
       "    </tr>\n",
       "    <tr>\n",
       "      <th>1</th>\n",
       "      <td>San Marino</td>\n",
       "      <td>POINT (12.44177 43.93610)</td>\n",
       "    </tr>\n",
       "    <tr>\n",
       "      <th>2</th>\n",
       "      <td>Vaduz</td>\n",
       "      <td>POINT (9.51667 47.13372)</td>\n",
       "    </tr>\n",
       "    <tr>\n",
       "      <th>3</th>\n",
       "      <td>Lobamba</td>\n",
       "      <td>POINT (31.20000 -26.46667)</td>\n",
       "    </tr>\n",
       "    <tr>\n",
       "      <th>4</th>\n",
       "      <td>Luxembourg</td>\n",
       "      <td>POINT (6.13000 49.61166)</td>\n",
       "    </tr>\n",
       "  </tbody>\n",
       "</table>\n",
       "</div>"
      ],
      "text/plain": [
       "           name                    geometry\n",
       "0  Vatican City   POINT (12.45339 41.90328)\n",
       "1    San Marino   POINT (12.44177 43.93610)\n",
       "2         Vaduz    POINT (9.51667 47.13372)\n",
       "3       Lobamba  POINT (31.20000 -26.46667)\n",
       "4    Luxembourg    POINT (6.13000 49.61166)"
      ]
     },
     "execution_count": 287,
     "metadata": {},
     "output_type": "execute_result"
    }
   ],
   "source": [
    "cities.head()"
   ]
  },
  {
   "cell_type": "markdown",
   "metadata": {},
   "source": [
    "And a dataset of rivers in the world (from http://www.naturalearthdata.com/downloads/50m-physical-vectors/50m-rivers-lake-centerlines/, zip file is available in the `/data` directory) where each river is a (multi-)line:"
   ]
  },
  {
   "cell_type": "code",
   "execution_count": 288,
   "metadata": {
    "ExecuteTime": {
     "end_time": "2021-03-15T13:57:05.005893Z",
     "start_time": "2021-03-15T13:57:04.867853Z"
    }
   },
   "outputs": [],
   "source": [
    "rivers = geopandas.read_file(\"zip://./data/ne_50m_rivers_lake_centerlines.zip\")"
   ]
  },
  {
   "cell_type": "code",
   "execution_count": 289,
   "metadata": {
    "ExecuteTime": {
     "end_time": "2021-03-15T13:57:05.037135Z",
     "start_time": "2021-03-15T13:57:05.005893Z"
    }
   },
   "outputs": [
    {
     "data": {
      "text/html": [
       "<div>\n",
       "<style scoped>\n",
       "    .dataframe tbody tr th:only-of-type {\n",
       "        vertical-align: middle;\n",
       "    }\n",
       "\n",
       "    .dataframe tbody tr th {\n",
       "        vertical-align: top;\n",
       "    }\n",
       "\n",
       "    .dataframe thead th {\n",
       "        text-align: right;\n",
       "    }\n",
       "</style>\n",
       "<table border=\"1\" class=\"dataframe\">\n",
       "  <thead>\n",
       "    <tr style=\"text-align: right;\">\n",
       "      <th></th>\n",
       "      <th>featurecla</th>\n",
       "      <th>name</th>\n",
       "      <th>geometry</th>\n",
       "    </tr>\n",
       "  </thead>\n",
       "  <tbody>\n",
       "    <tr>\n",
       "      <th>0</th>\n",
       "      <td>Lake Centerline</td>\n",
       "      <td>Kama</td>\n",
       "      <td>LINESTRING (51.93713 55.70107, 51.88087 55.686...</td>\n",
       "    </tr>\n",
       "    <tr>\n",
       "      <th>1</th>\n",
       "      <td>River</td>\n",
       "      <td>Kama</td>\n",
       "      <td>LINESTRING (53.69385 58.20632, 53.67715 58.273...</td>\n",
       "    </tr>\n",
       "    <tr>\n",
       "      <th>2</th>\n",
       "      <td>Lake Centerline</td>\n",
       "      <td>Abay</td>\n",
       "      <td>LINESTRING (37.11301 11.85499, 37.15037 11.893...</td>\n",
       "    </tr>\n",
       "    <tr>\n",
       "      <th>3</th>\n",
       "      <td>Lake Centerline</td>\n",
       "      <td>Al Furat</td>\n",
       "      <td>LINESTRING (38.56119 35.86264, 38.36534 35.903...</td>\n",
       "    </tr>\n",
       "    <tr>\n",
       "      <th>4</th>\n",
       "      <td>Lake Centerline</td>\n",
       "      <td>Alabama</td>\n",
       "      <td>MULTILINESTRING ((-86.52177 33.03212, -86.5209...</td>\n",
       "    </tr>\n",
       "  </tbody>\n",
       "</table>\n",
       "</div>"
      ],
      "text/plain": [
       "        featurecla      name  \\\n",
       "0  Lake Centerline      Kama   \n",
       "1            River      Kama   \n",
       "2  Lake Centerline      Abay   \n",
       "3  Lake Centerline  Al Furat   \n",
       "4  Lake Centerline   Alabama   \n",
       "\n",
       "                                            geometry  \n",
       "0  LINESTRING (51.93713 55.70107, 51.88087 55.686...  \n",
       "1  LINESTRING (53.69385 58.20632, 53.67715 58.273...  \n",
       "2  LINESTRING (37.11301 11.85499, 37.15037 11.893...  \n",
       "3  LINESTRING (38.56119 35.86264, 38.36534 35.903...  \n",
       "4  MULTILINESTRING ((-86.52177 33.03212, -86.5209...  "
      ]
     },
     "execution_count": 289,
     "metadata": {},
     "output_type": "execute_result"
    }
   ],
   "source": [
    "rivers.head()"
   ]
  },
  {
   "cell_type": "markdown",
   "metadata": {},
   "source": [
    "### The `shapely` library\n",
    "\n",
    "The individual geometry objects are provided by the [`shapely`](https://shapely.readthedocs.io/en/stable/) library"
   ]
  },
  {
   "cell_type": "code",
   "execution_count": 290,
   "metadata": {
    "ExecuteTime": {
     "end_time": "2021-03-15T13:57:05.068378Z",
     "start_time": "2021-03-15T13:57:05.037135Z"
    }
   },
   "outputs": [
    {
     "data": {
      "text/plain": [
       "shapely.geometry.polygon.Polygon"
      ]
     },
     "execution_count": 290,
     "metadata": {},
     "output_type": "execute_result"
    }
   ],
   "source": [
    "type(countries.geometry[0])"
   ]
  },
  {
   "cell_type": "markdown",
   "metadata": {},
   "source": [
    "To construct one ourselves:"
   ]
  },
  {
   "cell_type": "code",
   "execution_count": 291,
   "metadata": {
    "ExecuteTime": {
     "end_time": "2021-03-15T13:57:05.084000Z",
     "start_time": "2021-03-15T13:57:05.068378Z"
    }
   },
   "outputs": [],
   "source": [
    "from shapely.geometry import Point, Polygon, LineString"
   ]
  },
  {
   "cell_type": "code",
   "execution_count": 292,
   "metadata": {
    "ExecuteTime": {
     "end_time": "2021-03-15T13:57:05.106144Z",
     "start_time": "2021-03-15T13:57:05.090508Z"
    }
   },
   "outputs": [],
   "source": [
    "p = Point(0, 0)"
   ]
  },
  {
   "cell_type": "code",
   "execution_count": 293,
   "metadata": {
    "ExecuteTime": {
     "end_time": "2021-03-15T13:57:05.121758Z",
     "start_time": "2021-03-15T13:57:05.106144Z"
    }
   },
   "outputs": [
    {
     "name": "stdout",
     "output_type": "stream",
     "text": [
      "POINT (0 0)\n"
     ]
    }
   ],
   "source": [
    "print(p)"
   ]
  },
  {
   "cell_type": "code",
   "execution_count": 294,
   "metadata": {
    "ExecuteTime": {
     "end_time": "2021-03-15T13:57:05.137380Z",
     "start_time": "2021-03-15T13:57:05.121758Z"
    }
   },
   "outputs": [],
   "source": [
    "polygon = Polygon([(1, 1), (2,2), (2, 1)])"
   ]
  },
  {
   "cell_type": "code",
   "execution_count": 295,
   "metadata": {
    "ExecuteTime": {
     "end_time": "2021-03-15T13:57:05.153001Z",
     "start_time": "2021-03-15T13:57:05.137380Z"
    }
   },
   "outputs": [
    {
     "data": {
      "text/plain": [
       "0.5"
      ]
     },
     "execution_count": 295,
     "metadata": {},
     "output_type": "execute_result"
    }
   ],
   "source": [
    "polygon.area"
   ]
  },
  {
   "cell_type": "code",
   "execution_count": 296,
   "metadata": {
    "ExecuteTime": {
     "end_time": "2021-03-15T13:57:05.168623Z",
     "start_time": "2021-03-15T13:57:05.153001Z"
    }
   },
   "outputs": [
    {
     "data": {
      "text/plain": [
       "1.4142135623730951"
      ]
     },
     "execution_count": 296,
     "metadata": {},
     "output_type": "execute_result"
    }
   ],
   "source": [
    "polygon.distance(p)"
   ]
  },
  {
   "cell_type": "markdown",
   "metadata": {},
   "source": [
    "<div class=\"alert alert-info\" style=\"font-size:120%\">\n",
    "\n",
    "**REMEMBER**: <br>\n",
    "\n",
    "Single geometries are represented by `shapely` objects:\n",
    "\n",
    "* If you access a single geometry of a GeoDataFrame, you get a shapely geometry object\n",
    "* Those objects have similar functionality as geopandas objects (GeoDataFrame/GeoSeries). For example:\n",
    "    * `single_shapely_object.distance(other_point)` -> distance between two points\n",
    "    * `geodataframe.distance(other_point)` ->  distance for each point in the geodataframe to the other point\n",
    "\n",
    "</div>"
   ]
  },
  {
   "cell_type": "markdown",
   "metadata": {},
   "source": [
    "### Plotting our different layers together"
   ]
  },
  {
   "cell_type": "code",
   "execution_count": 297,
   "metadata": {
    "ExecuteTime": {
     "end_time": "2021-03-15T13:57:05.638456Z",
     "start_time": "2021-03-15T13:57:05.168623Z"
    }
   },
   "outputs": [
    {
     "data": {
      "text/plain": [
       "[(-40.0, 40.0), (-20.0, 60.0)]"
      ]
     },
     "execution_count": 297,
     "metadata": {},
     "output_type": "execute_result"
    },
    {
     "data": {
      "image/png": "[encoded data removed]",
      "text/plain": [
       "<Figure size 1080x720 with 1 Axes>"
      ]
     },
     "metadata": {
      "needs_background": "light"
     },
     "output_type": "display_data"
    }
   ],
   "source": [
    "kaart = countries.plot(edgecolor='k', facecolor='none', figsize=(15, 10))\n",
    "rivers.plot(ax=kaart)\n",
    "cities.plot(ax=kaart, color='red')\n",
    "kaart.set(xlim=(-20, 60), ylim=(-40, 40))"
   ]
  },
  {
   "cell_type": "markdown",
   "metadata": {},
   "source": [
    "### Let's practice!\n",
    "\n",
    "Throughout the exercises in this course, we will work with several datasets about the city of Paris.\n",
    "\n",
    "Here, we start with the following datasets:\n",
    "\n",
    "- The administrative districts of Paris (https://opendata.paris.fr/explore/dataset/quartier_paris/): `paris_districts_utm.geojson`\n",
    "- Real-time (at the moment I downloaded them ..) information about the public bicycle sharing system in Paris (vélib, https://opendata.paris.fr/explore/dataset/stations-velib-disponibilites-en-temps-reel/information/): `data/paris_bike_stations_mercator.gpkg`\n",
    "\n",
    "Both datasets are provided in the data folder.\n",
    "\n",
    "Let's explore those datasets:"
   ]
  },
  {
   "cell_type": "markdown",
   "metadata": {},
   "source": [
    "<div class=\"alert alert-success\">\n",
    "\n",
    "**EXERCISE**:\n",
    "\n",
    "We will start with exploring the bicycle station dataset (available as a GeoPackage file: `data/paris_bike_stations_mercator.gpkg`)\n",
    "    \n",
    "* Read the stations datasets into a GeoDataFrame called `stations`.\n",
    "* Check the type of the returned object\n",
    "* Check the first rows of the dataframes. What kind of geometries does this datasets contain?\n",
    "* How many features are there in the dataset?\n",
    "    \n",
    "</div>"
   ]
  },
  {
   "cell_type": "code",
   "execution_count": 299,
   "metadata": {
    "ExecuteTime": {
     "end_time": "2021-03-15T13:58:10.155581Z",
     "start_time": "2021-03-15T13:58:10.070937Z"
    }
   },
   "outputs": [],
   "source": [
    "stations=geopandas.read_file('data/paris_bike_stations_mercator.gpkg')"
   ]
  },
  {
   "cell_type": "code",
   "execution_count": null,
   "metadata": {
    "ExecuteTime": {
     "end_time": "2021-03-15T13:57:05.707564Z",
     "start_time": "2021-03-15T13:57:04.144Z"
    }
   },
   "outputs": [],
   "source": [
    "type(stations)"
   ]
  },
  {
   "cell_type": "code",
   "execution_count": null,
   "metadata": {
    "ExecuteTime": {
     "end_time": "2021-03-15T13:57:05.707564Z",
     "start_time": "2021-03-15T13:57:04.147Z"
    }
   },
   "outputs": [],
   "source": [
    "stations.head()"
   ]
  },
  {
   "cell_type": "code",
   "execution_count": null,
   "metadata": {
    "ExecuteTime": {
     "end_time": "2021-03-15T13:57:05.707564Z",
     "start_time": "2021-03-15T13:57:04.150Z"
    }
   },
   "outputs": [],
   "source": [
    "len(stations) #or stations.shape"
   ]
  },
  {
   "cell_type": "markdown",
   "metadata": {},
   "source": [
    "<div class=\"alert alert-success\">\n",
    "\n",
    "**EXERCISE**:\n",
    "\n",
    "* Make a quick plot of the `stations` dataset.\n",
    "* Make the plot a bit larger byt setting the figure size to (12, 6)\n",
    " \n",
    "</div>"
   ]
  },
  {
   "cell_type": "code",
   "execution_count": null,
   "metadata": {
    "ExecuteTime": {
     "end_time": "2021-03-15T13:57:05.707564Z",
     "start_time": "2021-03-15T13:57:04.156Z"
    }
   },
   "outputs": [],
   "source": [
    "stations.plot(figsize=(12,6))"
   ]
  },
  {
   "cell_type": "markdown",
   "metadata": {},
   "source": [
    "A plot with just some points can be hard to interpret without any spatial context. Therefore, in the next exercise we will learn how to add a background map.\n",
    "\n",
    "We are going to make use of the [contextily](https://github.com/darribas/contextily) package. The `add_basemap()` function of this package makes it easy to add a background web map to our plot. We begin by plotting our data first, and then pass the matplotlib axes object (returned by dataframe's `plot()` method) to the `add_basemap()` function. `contextily` will then download the web tiles needed for the geographical extent of your plot.\n",
    "\n",
    "\n",
    "\n",
    "\n",
    "<div class=\"alert alert-success\">\n",
    "\n",
    "**EXERCISE**:\n",
    "\n",
    "* Import `contextily`.\n",
    "* Re-do the figure of the previous exercise: make a plot of all the points in `stations`, but assign the result to an `ax` variable.\n",
    "* Set the marker size equal to 5 to reduce the size of the points (use the `markersize` keyword of the `plot()` method for this).\n",
    "* Use in the same cell as `plot()` the `add_basemap()` function of `contextily` to add a background map: the first argument is the matplotlib axes object `ax`. \n",
    "\n",
    "</div>"
   ]
  },
  {
   "cell_type": "code",
   "execution_count": null,
   "metadata": {
    "ExecuteTime": {
     "end_time": "2021-03-15T13:57:05.707564Z",
     "start_time": "2021-03-15T13:57:04.161Z"
    }
   },
   "outputs": [],
   "source": [
    "import contextily"
   ]
  },
  {
   "cell_type": "code",
   "execution_count": null,
   "metadata": {
    "ExecuteTime": {
     "end_time": "2021-03-15T13:57:05.723138Z",
     "start_time": "2021-03-15T13:57:04.164Z"
    }
   },
   "outputs": [],
   "source": [
    "ax=stations.plot(figsize=(12,6), markersize=5)\n",
    "contextily.add_basemap(ax)"
   ]
  },
  {
   "cell_type": "markdown",
   "metadata": {},
   "source": [
    "<div class=\"alert alert-success\">\n",
    "\n",
    "**EXERCISE**:\n",
    "\n",
    "* Make a histogram showing the distribution of the number of available bikes in the stations.\n",
    "\n",
    "<details>\n",
    "  <summary>Hints</summary>\n",
    "\n",
    "* Selecting a column can be done with the square brackets: `df['col_name']`\n",
    "* Single columns have a `hist()` method to plot a histogram of its values.\n",
    "    \n",
    "</details>\n",
    "    \n",
    "</div>"
   ]
  },
  {
   "cell_type": "code",
   "execution_count": null,
   "metadata": {
    "ExecuteTime": {
     "end_time": "2021-03-15T13:57:05.723138Z",
     "start_time": "2021-03-15T13:57:04.168Z"
    }
   },
   "outputs": [],
   "source": [
    "stations['available_bikes'].hist()"
   ]
  },
  {
   "cell_type": "markdown",
   "metadata": {},
   "source": [
    "<div class=\"alert alert-success\">\n",
    "\n",
    "**EXERCISE**:\n",
    "\n",
    "Let's now visualize where the available bikes are actually stationed in a choropleth map:\n",
    "    \n",
    "* Make a plot of the `stations` dataset (also with a (12, 6) figsize).\n",
    "* Use the `'available_bikes'` colums to determine the color of the points.\n",
    "* Include a legend in the plot.\n",
    " \n",
    "</div>"
   ]
  },
  {
   "cell_type": "code",
   "execution_count": null,
   "metadata": {
    "ExecuteTime": {
     "end_time": "2021-03-15T13:57:05.723138Z",
     "start_time": "2021-03-15T13:57:04.173Z"
    }
   },
   "outputs": [],
   "source": [
    "stations.plot(figsize=(12,6),legend=True, column='available_bikes')"
   ]
  },
  {
   "cell_type": "markdown",
   "metadata": {},
   "source": [
    "<div class=\"alert alert-success\">\n",
    "\n",
    "**EXERCISE**:\n",
    "\n",
    "Next, we will explore the dataset on the administrative districts of Paris (available as a GeoJSON file: \"data/paris_districts_utm.geojson\")\n",
    "\n",
    "* Read the dataset into a GeoDataFrame called `districts`.\n",
    "* Check the first rows of the dataframe. What kind of geometries does this dataset contain?\n",
    "* How many features are there in the dataset?\n",
    "* Make a quick plot of the `districts` dataset.\n",
    "    \n",
    "</div>"
   ]
  },
  {
   "cell_type": "code",
   "execution_count": null,
   "metadata": {
    "ExecuteTime": {
     "end_time": "2021-03-15T13:57:05.723138Z",
     "start_time": "2021-03-15T13:57:04.178Z"
    }
   },
   "outputs": [],
   "source": [
    "districts=geopandas.read_file(\"data/paris_districts_utm.geojson\")"
   ]
  },
  {
   "cell_type": "code",
   "execution_count": null,
   "metadata": {
    "ExecuteTime": {
     "end_time": "2021-03-15T13:57:05.723138Z",
     "start_time": "2021-03-15T13:57:04.182Z"
    }
   },
   "outputs": [],
   "source": [
    "districts.head()"
   ]
  },
  {
   "cell_type": "code",
   "execution_count": null,
   "metadata": {
    "ExecuteTime": {
     "end_time": "2021-03-15T13:57:05.723138Z",
     "start_time": "2021-03-15T13:57:04.187Z"
    }
   },
   "outputs": [],
   "source": [
    "districts.shape #or len(districts)"
   ]
  },
  {
   "cell_type": "code",
   "execution_count": null,
   "metadata": {
    "ExecuteTime": {
     "end_time": "2021-03-15T13:57:05.738759Z",
     "start_time": "2021-03-15T13:57:04.190Z"
    }
   },
   "outputs": [],
   "source": [
    "districts.plot()"
   ]
  },
  {
   "cell_type": "markdown",
   "metadata": {},
   "source": [
    "<div class=\"alert alert-success\">\n",
    "\n",
    "**EXERCISE**:\n",
    "    \n",
    "What are the largest districts (biggest area)?\n",
    "\n",
    "* Calculate the area of each district.\n",
    "* Add this area as a new column to the `districts` dataframe.\n",
    "* Sort the dataframe by this area column for largest to smallest values (descending).\n",
    "\n",
    "<details><summary>Hints</summary>\n",
    "\n",
    "* Adding a column can be done by assing values to a column using the same square brackets syntax: `df['new_col'] = values`\n",
    "* To sort the rows of a DataFrame, use the `sort_values()` method, specifying the colum to sort on with the `by='col_name'` keyword. Check the help of this method to see how to sort ascending or descending.\n",
    "\n",
    "</details>\n",
    "\n",
    "</div>"
   ]
  },
  {
   "cell_type": "code",
   "execution_count": null,
   "metadata": {
    "ExecuteTime": {
     "end_time": "2021-03-15T13:57:05.738759Z",
     "start_time": "2021-03-15T13:57:04.198Z"
    }
   },
   "outputs": [],
   "source": [
    "districts['area']=districts.geometry.area"
   ]
  },
  {
   "cell_type": "code",
   "execution_count": null,
   "metadata": {
    "ExecuteTime": {
     "end_time": "2021-03-15T13:57:05.738759Z",
     "start_time": "2021-03-15T13:57:04.202Z"
    }
   },
   "outputs": [],
   "source": [
    "districts.sort_values(by='area', ascending=False)"
   ]
  },
  {
   "cell_type": "markdown",
   "metadata": {},
   "source": [
    "<div class=\"alert alert-success\">\n",
    "\n",
    "**EXERCISE**:\n",
    "\n",
    "* Add a column `'population_density'` representing the number of inhabitants per squared kilometer (Note: The area is given in squared meter, so you will need to multiply the result with `10**6`).\n",
    "* Plot the districts using the `'population_density'` to color the polygons and include a legend.\n",
    "\n",
    "</div>"
   ]
  },
  {
   "cell_type": "code",
   "execution_count": null,
   "metadata": {
    "ExecuteTime": {
     "end_time": "2021-03-15T13:57:05.738759Z",
     "start_time": "2021-03-15T13:57:04.208Z"
    }
   },
   "outputs": [],
   "source": [
    "districts['population_density']=districts['population']/districts['area']*10**6"
   ]
  },
  {
   "cell_type": "code",
   "execution_count": null,
   "metadata": {
    "ExecuteTime": {
     "end_time": "2021-03-15T13:57:05.738759Z",
     "start_time": "2021-03-15T13:57:04.211Z"
    }
   },
   "outputs": [],
   "source": [
    "districts.plot(column='population_density',figsize=(12, 6),legend=True)"
   ]
  },
  {
   "cell_type": "markdown",
   "metadata": {},
   "source": [
    "## Creating geodataframes"
   ]
  },
  {
   "cell_type": "markdown",
   "metadata": {},
   "source": [
    "Besides importing geospatial data with `read_file`, geodataframes can also be created manually of from a pandas dataframe with `GeoDataFrame`. "
   ]
  },
  {
   "cell_type": "markdown",
   "metadata": {},
   "source": [
    "### Manually"
   ]
  },
  {
   "cell_type": "code",
   "execution_count": null,
   "metadata": {
    "ExecuteTime": {
     "end_time": "2021-03-15T13:57:05.738759Z",
     "start_time": "2021-03-15T13:57:04.218Z"
    }
   },
   "outputs": [],
   "source": [
    "from shapely.geometry import Point, Polygon, LineString\n",
    "geopandas.GeoDataFrame({\n",
    "    'geometry': [Point(1, 1), Point(2, 2)],\n",
    "    'attribute1': [1, 2],\n",
    "    'attribute2': [0.1, 0.2]})"
   ]
  },
  {
   "cell_type": "markdown",
   "metadata": {},
   "source": [
    "### Creating a GeoDataFrame from an existing dataframe\n",
    "\n",
    "For example, if you have lat/lon coordinates in two columns:"
   ]
  },
  {
   "cell_type": "code",
   "execution_count": null,
   "metadata": {
    "ExecuteTime": {
     "end_time": "2021-03-15T13:57:05.754380Z",
     "start_time": "2021-03-15T13:57:04.224Z"
    }
   },
   "outputs": [],
   "source": [
    "df = pd.DataFrame(\n",
    "    {'City': ['Buenos Aires', 'Brasilia', 'Santiago', 'Bogota', 'Caracas'],\n",
    "     'Country': ['Argentina', 'Brazil', 'Chile', 'Colombia', 'Venezuela'],\n",
    "     'Latitude': [-34.58, -15.78, -33.45, 4.60, 10.48],\n",
    "     'Longitude': [-58.66, -47.91, -70.66, -74.08, -66.86]})"
   ]
  },
  {
   "cell_type": "code",
   "execution_count": null,
   "metadata": {
    "ExecuteTime": {
     "end_time": "2021-03-15T13:57:05.754380Z",
     "start_time": "2021-03-15T13:57:04.228Z"
    }
   },
   "outputs": [],
   "source": [
    "gdf = geopandas.GeoDataFrame(\n",
    "    df, geometry=geopandas.points_from_xy(df.Longitude, df.Latitude))"
   ]
  },
  {
   "cell_type": "code",
   "execution_count": null,
   "metadata": {
    "ExecuteTime": {
     "end_time": "2021-03-15T13:57:05.754380Z",
     "start_time": "2021-03-15T13:57:04.231Z"
    }
   },
   "outputs": [],
   "source": [
    "gdf"
   ]
  },
  {
   "cell_type": "markdown",
   "metadata": {},
   "source": [
    "## Coordinate reference systems"
   ]
  },
  {
   "cell_type": "markdown",
   "metadata": {},
   "source": [
    "Up to now, we have used the geometry data with certain coordinates without further wondering what those coordinates mean or how they are expressed."
   ]
  },
  {
   "cell_type": "markdown",
   "metadata": {},
   "source": [
    "A GeoDataFrame or GeoSeries has a `.crs` attribute which holds (optionally) a description of the coordinate reference system of the geometries:"
   ]
  },
  {
   "cell_type": "code",
   "execution_count": null,
   "metadata": {
    "ExecuteTime": {
     "end_time": "2021-03-15T13:57:05.754380Z",
     "start_time": "2021-03-15T13:57:04.243Z"
    }
   },
   "outputs": [],
   "source": [
    "countries.crs"
   ]
  },
  {
   "cell_type": "markdown",
   "metadata": {},
   "source": [
    "For the `countries` dataframe, it indicates that it uses the EPSG 4326 / WGS84 lon/lat reference system, which is one of the most used for geographic coordinates.\n",
    "\n",
    "\n",
    "It uses coordinates as latitude and longitude in degrees, as can be seen from the x/y labels on the plot:"
   ]
  },
  {
   "cell_type": "code",
   "execution_count": null,
   "metadata": {
    "ExecuteTime": {
     "end_time": "2021-03-15T13:57:05.754380Z",
     "start_time": "2021-03-15T13:57:04.250Z"
    }
   },
   "outputs": [],
   "source": [
    "countries.plot()"
   ]
  },
  {
   "cell_type": "markdown",
   "metadata": {
    "ExecuteTime": {
     "end_time": "2021-03-12T15:06:02.872729Z",
     "start_time": "2021-03-12T15:06:02.857110Z"
    }
   },
   "source": [
    "However, calculating the area or length of data in degrees would not be very meaningful. To calculate these values, we always use cartesian projections in meters, such as Lambert72."
   ]
  },
  {
   "cell_type": "markdown",
   "metadata": {},
   "source": [
    "### Transforming to another CRS\n",
    "\n",
    "We can convert a GeoDataFrame to another reference system using the `to_crs` function. \n",
    "\n",
    "For example, let's convert the countries to the World Mercator projection (http://epsg.io/3395):"
   ]
  },
  {
   "cell_type": "code",
   "execution_count": null,
   "metadata": {
    "ExecuteTime": {
     "end_time": "2021-03-15T13:57:05.754380Z",
     "start_time": "2021-03-15T13:57:04.259Z"
    }
   },
   "outputs": [],
   "source": [
    "# remove Antartica, as the Mercator projection cannot deal with the poles\n",
    "countries = countries[(countries['name'] != \"Antarctica\")]"
   ]
  },
  {
   "cell_type": "code",
   "execution_count": null,
   "metadata": {
    "ExecuteTime": {
     "end_time": "2021-03-15T13:57:05.754380Z",
     "start_time": "2021-03-15T13:57:04.262Z"
    }
   },
   "outputs": [],
   "source": [
    "countries_mercator = countries.to_crs(epsg=3395)"
   ]
  },
  {
   "cell_type": "code",
   "execution_count": null,
   "metadata": {
    "ExecuteTime": {
     "end_time": "2021-03-15T13:57:05.754380Z",
     "start_time": "2021-03-15T13:57:04.265Z"
    }
   },
   "outputs": [],
   "source": [
    "countries_mercator.plot()"
   ]
  },
  {
   "cell_type": "markdown",
   "metadata": {},
   "source": [
    "Note the different scale of x and y."
   ]
  },
  {
   "cell_type": "markdown",
   "metadata": {},
   "source": [
    "Under the hood, GeoPandas uses the `pyproj` / `PROJ` libraries to deal with the re-projections.\n",
    "For more information, see also http://geopandas.readthedocs.io/en/latest/projections.html."
   ]
  },
  {
   "cell_type": "markdown",
   "metadata": {},
   "source": [
    "### Let's practice!\n",
    "\n",
    "We are going back to the Paris datasets, but to a file that does not contain the right CRS (as opposed to the files of the previous excercises): `\"data/paris_districts.geojson\"`. The CRS for France is the RGF93 / Lambert-93 reference system, referenced by the `EPSG:2154` number\n"
   ]
  },
  {
   "cell_type": "markdown",
   "metadata": {},
   "source": [
    "<div class=\"alert alert-success\">\n",
    "\n",
    "**EXERCISE: Projecting a GeoDataFrame**\n",
    "\n",
    "* Read the districts datasets (`\"data/paris_districts.geojson\"`) into a GeoDataFrame called `districtsCRS`.\n",
    "* Look at the CRS attribute of the GeoDataFrame.\n",
    "* Make a simple plot of the `districtsCRS` dataset.\n",
    "* Calculate the area of all districts.\n",
    "* Convert the `districtsCRS` to a projected CRS (using the `EPSG:2154` for France). Call the new dataset `districts_RGF93`.\n",
    "* Make a similar plot of `districts_RGF93`.\n",
    "* Calculate the area of all districts again with `districts_RGF93` (the result will now be expressed in m²).\n",
    "    \n",
    "\n",
    "\n",
    "</div>"
   ]
  },
  {
   "cell_type": "code",
   "execution_count": null,
   "metadata": {
    "ExecuteTime": {
     "end_time": "2021-03-15T13:57:05.770002Z",
     "start_time": "2021-03-15T13:57:04.281Z"
    }
   },
   "outputs": [],
   "source": [
    "districtsCRS = geopandas.read_file('data/paris_districts.geojson')"
   ]
  },
  {
   "cell_type": "code",
   "execution_count": null,
   "metadata": {
    "ExecuteTime": {
     "end_time": "2021-03-15T13:57:05.770002Z",
     "start_time": "2021-03-15T13:57:04.285Z"
    }
   },
   "outputs": [],
   "source": [
    "districtsCRS.crs"
   ]
  },
  {
   "cell_type": "code",
   "execution_count": null,
   "metadata": {
    "ExecuteTime": {
     "end_time": "2021-03-15T13:57:05.770002Z",
     "start_time": "2021-03-15T13:57:04.288Z"
    }
   },
   "outputs": [],
   "source": [
    "districtsCRS.plot()"
   ]
  },
  {
   "cell_type": "code",
   "execution_count": null,
   "metadata": {
    "ExecuteTime": {
     "end_time": "2021-03-15T13:57:05.770002Z",
     "start_time": "2021-03-15T13:57:04.293Z"
    }
   },
   "outputs": [],
   "source": [
    "districtsCRS.geometry.area"
   ]
  },
  {
   "cell_type": "code",
   "execution_count": null,
   "metadata": {
    "ExecuteTime": {
     "end_time": "2021-03-15T13:57:05.770002Z",
     "start_time": "2021-03-15T13:57:04.296Z"
    }
   },
   "outputs": [],
   "source": [
    "districts_RGF93 = districtsCRS.to_crs(epsg=2154)"
   ]
  },
  {
   "cell_type": "code",
   "execution_count": null,
   "metadata": {
    "ExecuteTime": {
     "end_time": "2021-03-15T13:57:05.770002Z",
     "start_time": "2021-03-15T13:57:04.300Z"
    }
   },
   "outputs": [],
   "source": [
    "districts_RGF93.plot()"
   ]
  },
  {
   "cell_type": "code",
   "execution_count": null,
   "metadata": {
    "ExecuteTime": {
     "end_time": "2021-03-15T13:57:05.770002Z",
     "start_time": "2021-03-15T13:57:04.302Z"
    }
   },
   "outputs": [],
   "source": [
    "districts_RGF93.geometry.area"
   ]
  },
  {
   "cell_type": "markdown",
   "metadata": {},
   "source": [
    "<div class=\"alert alert-success\">\n",
    "\n",
    "**EXERCISE:**\n",
    "\n",
    "In the first notebook, we did an exercise on plotting the bike stations locations in Paris and adding a background map to it using the `contextily` package.\n",
    "\n",
    "Currently, `contextily` assumes that your data is in the Web Mercator projection, the system used by most web tile services. And in that first exercise, we provided the data in the appropriate CRS so you didn't need to care about this aspect.\n",
    "\n",
    "However, typically, your data will not come in Web Mercator (`EPSG:3857`) and you will have to align them with web tiles on your own.\n",
    "    \n",
    "* Read the bike stations datasets (`\"data/paris_bike_stations.geojson\"`) into a GeoDataFrame called `stationsCRS`.\n",
    "* Make a plot of this geodataframe (markersize 5) and add a contextily basemap. Do you see Paris on the basemap?\n",
    "* Convert the `stationsCRS` dataset to the Web Mercator projection (`EPSG:3857`). Call the result `stations_webmercator`, and inspect the result.\n",
    "* Make again a plot with basemap, can you see Paris now? \n",
    "\n",
    "</div>"
   ]
  },
  {
   "cell_type": "code",
   "execution_count": null,
   "metadata": {
    "ExecuteTime": {
     "end_time": "2021-03-15T13:57:05.770002Z",
     "start_time": "2021-03-15T13:57:04.308Z"
    }
   },
   "outputs": [],
   "source": [
    "stationsCRS = geopandas.read_file(\"data/paris_bike_stations.geojson\")"
   ]
  },
  {
   "cell_type": "code",
   "execution_count": null,
   "metadata": {
    "ExecuteTime": {
     "end_time": "2021-03-15T13:57:05.785632Z",
     "start_time": "2021-03-15T13:57:04.311Z"
    }
   },
   "outputs": [],
   "source": [
    "ax = stationsCRS.plot(markersize=5)\n",
    "contextily.add_basemap(ax)"
   ]
  },
  {
   "cell_type": "code",
   "execution_count": null,
   "metadata": {
    "ExecuteTime": {
     "end_time": "2021-03-15T13:57:05.785632Z",
     "start_time": "2021-03-15T13:57:04.315Z"
    }
   },
   "outputs": [],
   "source": [
    "stations_webmercator = stationsCRS.to_crs(epsg=3857)"
   ]
  },
  {
   "cell_type": "code",
   "execution_count": null,
   "metadata": {
    "ExecuteTime": {
     "end_time": "2021-03-15T13:57:05.785632Z",
     "start_time": "2021-03-15T13:57:04.319Z"
    }
   },
   "outputs": [],
   "source": [
    "ax = stations_webmercator.plot(markersize=5)\n",
    "contextily.add_basemap(ax)"
   ]
  },
  {
   "cell_type": "markdown",
   "metadata": {},
   "source": [
    "## Spatial relationships and operations"
   ]
  },
  {
   "cell_type": "markdown",
   "metadata": {},
   "source": [
    "An important aspect of geospatial data is that we can look at *spatial relationships*: how two spatial objects relate to each other (whether they overlap, intersect, contain, .. one another).\n",
    "\n",
    "The topological, set-theoretic relationships in GIS are typically based on the DE-9IM model. See https://en.wikipedia.org/wiki/Spatial_relation for more information.\n",
    "\n",
    "![](img/TopologicSpatialRelarions2.png)\n",
    "(Image by [Krauss, CC BY-SA 3.0](https://en.wikipedia.org/wiki/Spatial_relation#/media/File:TopologicSpatialRelarions2.png))"
   ]
  },
  {
   "cell_type": "markdown",
   "metadata": {},
   "source": [
    "### Relationships between individual objects"
   ]
  },
  {
   "cell_type": "markdown",
   "metadata": {},
   "source": [
    "Let's first create some small toy spatial objects:\n",
    "\n",
    "A polygon:"
   ]
  },
  {
   "cell_type": "code",
   "execution_count": null,
   "metadata": {
    "ExecuteTime": {
     "end_time": "2021-03-15T13:57:05.785632Z",
     "start_time": "2021-03-15T13:57:04.328Z"
    }
   },
   "outputs": [],
   "source": [
    "belgium = countries.loc[countries['name'] == 'Belgium', 'geometry'].squeeze()"
   ]
  },
  {
   "cell_type": "markdown",
   "metadata": {},
   "source": [
    "Two points:"
   ]
  },
  {
   "cell_type": "code",
   "execution_count": null,
   "metadata": {
    "ExecuteTime": {
     "end_time": "2021-03-15T13:57:05.792140Z",
     "start_time": "2021-03-15T13:57:04.332Z"
    }
   },
   "outputs": [],
   "source": [
    "paris = cities.loc[cities['name'] == 'Paris', 'geometry'].squeeze()\n",
    "brussels = cities.loc[cities['name'] == 'Brussels', 'geometry'].squeeze()"
   ]
  },
  {
   "cell_type": "markdown",
   "metadata": {},
   "source": [
    "And a linestring:"
   ]
  },
  {
   "cell_type": "code",
   "execution_count": null,
   "metadata": {
    "ExecuteTime": {
     "end_time": "2021-03-15T13:57:05.792140Z",
     "start_time": "2021-03-15T13:57:04.337Z"
    }
   },
   "outputs": [],
   "source": [
    "from shapely.geometry import LineString\n",
    "line = LineString([paris, brussels])"
   ]
  },
  {
   "cell_type": "markdown",
   "metadata": {},
   "source": [
    "Let's visualize those 4 geometry objects together (I only put them in a GeoSeries to easily display them together with the geopandas `.plot()` method):"
   ]
  },
  {
   "cell_type": "code",
   "execution_count": null,
   "metadata": {
    "ExecuteTime": {
     "end_time": "2021-03-15T13:57:05.792140Z",
     "start_time": "2021-03-15T13:57:04.345Z"
    }
   },
   "outputs": [],
   "source": [
    "geopandas.GeoSeries([belgium, paris, brussels, line]).plot(cmap='tab10')"
   ]
  },
  {
   "cell_type": "markdown",
   "metadata": {},
   "source": [
    "You can recognize the abstract shape of Belgium.\n",
    "\n",
    "Brussels, the capital of Belgium, is thus located within Belgium. This is a spatial relationship, and we can test this using the individual shapely geometry objects as follow:"
   ]
  },
  {
   "cell_type": "code",
   "execution_count": null,
   "metadata": {
    "ExecuteTime": {
     "end_time": "2021-03-15T13:57:05.792140Z",
     "start_time": "2021-03-15T13:57:04.349Z"
    }
   },
   "outputs": [],
   "source": [
    "brussels.within(belgium)"
   ]
  },
  {
   "cell_type": "markdown",
   "metadata": {},
   "source": [
    "And using the reverse, Belgium contains Brussels:"
   ]
  },
  {
   "cell_type": "code",
   "execution_count": null,
   "metadata": {
    "ExecuteTime": {
     "end_time": "2021-03-15T13:57:05.792140Z",
     "start_time": "2021-03-15T13:57:04.354Z"
    }
   },
   "outputs": [],
   "source": [
    "belgium.contains(brussels)"
   ]
  },
  {
   "cell_type": "markdown",
   "metadata": {},
   "source": [
    "On the other hand, Paris is not located in Belgium:"
   ]
  },
  {
   "cell_type": "code",
   "execution_count": null,
   "metadata": {
    "ExecuteTime": {
     "end_time": "2021-03-15T13:57:05.792140Z",
     "start_time": "2021-03-15T13:57:04.358Z"
    }
   },
   "outputs": [],
   "source": [
    "belgium.contains(paris)"
   ]
  },
  {
   "cell_type": "code",
   "execution_count": null,
   "metadata": {
    "ExecuteTime": {
     "end_time": "2021-03-15T13:57:05.792140Z",
     "start_time": "2021-03-15T13:57:04.362Z"
    }
   },
   "outputs": [],
   "source": [
    "paris.within(belgium)"
   ]
  },
  {
   "cell_type": "markdown",
   "metadata": {},
   "source": [
    "The straight line we draw from Paris to Brussels is not fully located within Belgium, but it does intersect with it:"
   ]
  },
  {
   "cell_type": "code",
   "execution_count": null,
   "metadata": {
    "ExecuteTime": {
     "end_time": "2021-03-15T13:57:05.792140Z",
     "start_time": "2021-03-15T13:57:04.366Z"
    }
   },
   "outputs": [],
   "source": [
    "belgium.contains(line)"
   ]
  },
  {
   "cell_type": "code",
   "execution_count": null,
   "metadata": {
    "ExecuteTime": {
     "end_time": "2021-03-15T13:57:05.792140Z",
     "start_time": "2021-03-15T13:57:04.369Z"
    }
   },
   "outputs": [],
   "source": [
    "line.intersects(belgium)"
   ]
  },
  {
   "cell_type": "markdown",
   "metadata": {},
   "source": [
    "<b>Attention:</b> note that we have to use `squeeze()` or `item()` to access the single geometry object for calculations on this geometry. Without `squeeze()`, a series would be returned (with index and value). The same happens with any other column of a dataframe. "
   ]
  },
  {
   "cell_type": "code",
   "execution_count": null,
   "metadata": {
    "ExecuteTime": {
     "end_time": "2021-03-15T13:57:05.807769Z",
     "start_time": "2021-03-15T13:57:04.374Z"
    }
   },
   "outputs": [],
   "source": [
    "countries.loc[countries['name']=='Belgium', 'name']"
   ]
  },
  {
   "cell_type": "code",
   "execution_count": null,
   "metadata": {
    "ExecuteTime": {
     "end_time": "2021-03-15T13:57:05.807769Z",
     "start_time": "2021-03-15T13:57:04.377Z"
    }
   },
   "outputs": [],
   "source": [
    "countries.loc[countries['name']=='Belgium', 'name'].squeeze()"
   ]
  },
  {
   "cell_type": "code",
   "execution_count": null,
   "metadata": {
    "ExecuteTime": {
     "end_time": "2021-03-15T13:57:05.807769Z",
     "start_time": "2021-03-15T13:57:04.381Z"
    },
    "scrolled": true
   },
   "outputs": [],
   "source": [
    "countries.loc[countries['name']=='Belgium', 'geometry']"
   ]
  },
  {
   "cell_type": "code",
   "execution_count": null,
   "metadata": {
    "ExecuteTime": {
     "end_time": "2021-03-15T13:57:05.807769Z",
     "start_time": "2021-03-15T13:57:04.385Z"
    }
   },
   "outputs": [],
   "source": [
    "countries.loc[countries['name']=='Belgium', 'geometry'].squeeze()"
   ]
  },
  {
   "cell_type": "markdown",
   "metadata": {},
   "source": [
    "### Spatial relationships with GeoDataFrames\n",
    "\n",
    "The same methods that are available on individual `shapely` geometries as we have seen above, are also available as methods on `GeoSeries` / `GeoDataFrame` objects.\n",
    "\n",
    "For example, if we call the `contains` method on the world dataset with the `paris` point, it will do this spatial check for each country in the `world` dataframe:"
   ]
  },
  {
   "cell_type": "code",
   "execution_count": null,
   "metadata": {
    "ExecuteTime": {
     "end_time": "2021-03-15T13:57:05.807769Z",
     "start_time": "2021-03-15T13:57:04.389Z"
    }
   },
   "outputs": [],
   "source": [
    "countries.contains(paris)"
   ]
  },
  {
   "cell_type": "markdown",
   "metadata": {},
   "source": [
    "Because the above gives us a boolean result, we can use that to filter the dataframe, as we are used to do with pandas:"
   ]
  },
  {
   "cell_type": "code",
   "execution_count": null,
   "metadata": {
    "ExecuteTime": {
     "end_time": "2021-03-15T13:57:05.807769Z",
     "start_time": "2021-03-15T13:57:04.393Z"
    }
   },
   "outputs": [],
   "source": [
    "countries[countries.contains(paris)]"
   ]
  },
  {
   "cell_type": "markdown",
   "metadata": {},
   "source": [
    "And indeed, France is the only country in the world in which Paris is located."
   ]
  },
  {
   "cell_type": "markdown",
   "metadata": {},
   "source": [
    "<div class=\"alert alert-info\" style=\"font-size:120%\">\n",
    "\n",
    "**REMEMBER**:\n",
    "\n",
    "Overview of the different functions to check spatial relationships (*spatial predicate functions*):\n",
    "\n",
    "* `equals`\n",
    "* `contains`\n",
    "* `crosses`\n",
    "* `disjoint`\n",
    "* `intersects`\n",
    "* `overlaps`\n",
    "* `touches`\n",
    "* `within`\n",
    "* `covers`\n",
    "\n",
    "\n",
    "See https://shapely.readthedocs.io/en/stable/manual.html#predicates-and-relationships for an overview of those methods.\n",
    "\n",
    "</div>"
   ]
  },
  {
   "cell_type": "markdown",
   "metadata": {},
   "source": [
    "### Let's practice!\n",
    "\n",
    "We will again use the Paris datasets to do some exercises, but now we will import them and immediately convert them to the cartesian crs."
   ]
  },
  {
   "cell_type": "code",
   "execution_count": null,
   "metadata": {
    "ExecuteTime": {
     "end_time": "2021-03-15T13:57:05.807769Z",
     "start_time": "2021-03-15T13:57:04.406Z"
    }
   },
   "outputs": [],
   "source": [
    "districts = geopandas.read_file(\"data/paris_districts.geojson\").to_crs(epsg=2154)\n",
    "stations = geopandas.read_file(\"data/paris_bike_stations.geojson\").to_crs(epsg=2154)"
   ]
  },
  {
   "cell_type": "markdown",
   "metadata": {},
   "source": [
    "<div class=\"alert alert-success\">\n",
    "\n",
    "**EXERCISE: The Eiffel Tower**\n",
    "\n",
    "You all know the Eiffel tower, but maybe you didn't know it's Lam93 coordinates: x is 648237.3 and y is 6862271.9.\n",
    "\n",
    "* Create a Shapely point object with the coordinates of the Eiffel Tower and assign it to a variable called `eiffel_tower`. Print the result.\n",
    "* Check if the Eiffel Tower is located within the Montparnasse district.\n",
    "* Check if bike station 293 is located in the Montparnasse district. Hint: you can select a row and the geometry column with loc. \n",
    "* Calculate the distance between the Eiffel Tower and the bike station (note: in this case, the distance is returned in meters).\n",
    "\n",
    "</div>"
   ]
  },
  {
   "cell_type": "code",
   "execution_count": null,
   "metadata": {
    "ExecuteTime": {
     "end_time": "2021-03-15T13:57:05.823399Z",
     "start_time": "2021-03-15T13:57:04.410Z"
    }
   },
   "outputs": [],
   "source": [
    "eiffel_tower = Point(648237.3,6862271.9)\n",
    "print(eiffel_tower)"
   ]
  },
  {
   "cell_type": "code",
   "execution_count": null,
   "metadata": {
    "ExecuteTime": {
     "end_time": "2021-03-15T13:57:05.823399Z",
     "start_time": "2021-03-15T13:57:04.414Z"
    }
   },
   "outputs": [],
   "source": [
    "Montparnasse = districts[districts['district_name']=='Montparnasse'].geometry\n",
    "Montparnasse.contains(eiffel_tower)"
   ]
  },
  {
   "cell_type": "code",
   "execution_count": null,
   "metadata": {
    "ExecuteTime": {
     "end_time": "2021-03-15T13:57:05.823399Z",
     "start_time": "2021-03-15T13:57:04.418Z"
    }
   },
   "outputs": [],
   "source": [
    "station293 = stations.loc[293, 'geometry']\n",
    "Montparnasse.contains(station293)"
   ]
  },
  {
   "cell_type": "code",
   "execution_count": null,
   "metadata": {
    "ExecuteTime": {
     "end_time": "2021-03-15T13:57:05.823399Z",
     "start_time": "2021-03-15T13:57:04.423Z"
    }
   },
   "outputs": [],
   "source": [
    "eiffel_tower.distance(station293)"
   ]
  },
  {
   "cell_type": "markdown",
   "metadata": {
    "ExecuteTime": {
     "end_time": "2021-03-12T17:06:49.830284Z",
     "start_time": "2021-03-12T17:06:49.798990Z"
    }
   },
   "source": [
    "<div class=\"alert alert-success\">\n",
    "\n",
    "**EXTRA**\n",
    "\n",
    "Plot the two points (Eiffel tower and bike station) with a contextily base map. Hint: you have to create a GeoDataFrame or a GeoSeries of the points first and define the crs of the points. Then you can convert the crs for the basemap. \n",
    "</div>"
   ]
  },
  {
   "cell_type": "code",
   "execution_count": null,
   "metadata": {
    "ExecuteTime": {
     "end_time": "2021-03-15T13:57:05.823399Z",
     "start_time": "2021-03-15T13:57:04.431Z"
    }
   },
   "outputs": [],
   "source": [
    "#solution with GeoSeries\n",
    "ax = geopandas.GeoSeries([eiffel_tower,station293], crs=\"EPSG:2154\").to_crs(epsg=3857).plot()\n",
    "contextily.add_basemap(ax)"
   ]
  },
  {
   "cell_type": "code",
   "execution_count": null,
   "metadata": {
    "ExecuteTime": {
     "end_time": "2021-03-15T13:57:05.823399Z",
     "start_time": "2021-03-15T13:57:04.434Z"
    },
    "scrolled": true
   },
   "outputs": [],
   "source": [
    "#solution with GeoDataFrame\n",
    "punten = geopandas.GeoDataFrame({'naam':['eiffel','station'],'geometry':[eiffel_tower, station293]})\n",
    "punten.crs = \"EPSG:2154\"\n",
    "punten = punten.to_crs(epsg=3857)\n",
    "ax = punten.plot()\n",
    "contextily.add_basemap(ax)"
   ]
  },
  {
   "cell_type": "markdown",
   "metadata": {},
   "source": [
    "<div class=\"alert alert-success\">\n",
    "\n",
    "**EXERCISE: In which district in the Eiffel Tower located?**\n",
    "\n",
    "In previous exercise, we constructed a `Point` geometry for its location, and we checked that it was not located in the Montparnasse district. Let's now determine in which of the districts of Paris it *is* located.\n",
    "\n",
    "* Create a boolean mask (or filter) indicating whether each district contains the Eiffel Tower or not and filter the `districts` dataframe with the boolean mask (like we do with pandas).\n",
    "\n",
    "\n",
    "</div>"
   ]
  },
  {
   "cell_type": "code",
   "execution_count": null,
   "metadata": {
    "ExecuteTime": {
     "end_time": "2021-03-15T13:57:05.823399Z",
     "start_time": "2021-03-15T13:57:04.442Z"
    }
   },
   "outputs": [],
   "source": [
    "districts[districts.contains(eiffel_tower)]"
   ]
  },
  {
   "cell_type": "markdown",
   "metadata": {},
   "source": [
    "<div class=\"alert alert-success\">\n",
    "\n",
    "**EXERCISE: How far is the closest bike station?**\n",
    "\n",
    "Now, we might be interested in the bike stations nearby the Eiffel Tower. To explore them, let's visualize the Eiffel Tower itself as well as the bikes stations within 1km.\n",
    "\n",
    "To do this, we can calculate the distance to the Eiffel Tower for each of the stations. Based on this result, we can then create a mask that takes `True` if the station is within 1km, and `False` otherwise, and use it to filter the stations GeoDataFrame. Finally, we make a visualization of this subset.\n",
    "\n",
    "* Calculate the distance to the Eiffel Tower for each station, and call the result `dist_eiffel`.\n",
    "* Print the distance to the closest station (which is the minimum of `dist_eiffel`).\n",
    "* Select the rows the `stations` GeoDataFrame where the distance to the Eiffel Tower is less than 1 km (note that the distance is in meters). Call the result `stations_eiffel`.\n",
    "\n",
    "<details><summary>Hints</summary>\n",
    "\n",
    "* The `distance()` method of a GeoDataFrame works element-wise: it calculates the distance between each geometry in the GeoDataFrame and the geometry passed to the method.\n",
    "* A Series has a `min()` method to calculate the minimum value.\n",
    "* To create a boolean mask based on a condition, we can do e.g. `s < 100`.\n",
    "\n",
    "</details>\n",
    "\n",
    "</div>"
   ]
  },
  {
   "cell_type": "code",
   "execution_count": null,
   "metadata": {
    "ExecuteTime": {
     "end_time": "2021-03-15T13:57:05.823399Z",
     "start_time": "2021-03-15T13:57:04.452Z"
    }
   },
   "outputs": [],
   "source": [
    "dist_eiffel = stations.distance(eiffel_tower)"
   ]
  },
  {
   "cell_type": "code",
   "execution_count": null,
   "metadata": {
    "ExecuteTime": {
     "end_time": "2021-03-15T13:57:05.839013Z",
     "start_time": "2021-03-15T13:57:04.459Z"
    }
   },
   "outputs": [],
   "source": [
    "min(dist_eiffel)"
   ]
  },
  {
   "cell_type": "markdown",
   "metadata": {},
   "source": [
    "### Spatial operations\n",
    "\n",
    "Next to the spatial predicates that return boolean values, Shapely and GeoPandas also provide operations that return new geometric objects.\n",
    "\n",
    "**Binary operations:**\n",
    "\n",
    "<table><tr>\n",
    "<td> <img src=\"img/spatial-operations-base.png\"/> </td>\n",
    "<td> <img src=\"img/spatial-operations-intersection.png\"/> </td>\n",
    "</tr>\n",
    "<tr>\n",
    "<td> <img src=\"img/spatial-operations-union.png\"/> </td>\n",
    "<td> <img src=\"img/spatial-operations-difference.png\"/> </td>\n",
    "</tr></table>\n",
    "\n",
    "**Buffer:**\n",
    "\n",
    "<table><tr>\n",
    "<td> <img src=\"img/spatial-operations-buffer-point1.png\"/> </td>\n",
    "<td> <img src=\"img/spatial-operations-buffer-point2.png\"/> </td>\n",
    "</tr>\n",
    "<tr>\n",
    "<td> <img src=\"img/spatial-operations-buffer-line.png\"/> </td>\n",
    "<td> <img src=\"img/spatial-operations-buffer-polygon.png\"/> </td>\n",
    "</tr></table>\n",
    "\n",
    "\n",
    "See https://shapely.readthedocs.io/en/stable/manual.html#spatial-analysis-methods for more details."
   ]
  },
  {
   "cell_type": "markdown",
   "metadata": {},
   "source": [
    "For example, using the examples from above, let's construct a buffer around Brussels (which returns a Polygon):"
   ]
  },
  {
   "cell_type": "code",
   "execution_count": null,
   "metadata": {
    "ExecuteTime": {
     "end_time": "2021-03-15T13:57:05.839013Z",
     "start_time": "2021-03-15T13:57:04.468Z"
    }
   },
   "outputs": [],
   "source": [
    "geopandas.GeoSeries([belgium, brussels.buffer(1)]).plot(alpha=0.5, cmap='tab10')"
   ]
  },
  {
   "cell_type": "markdown",
   "metadata": {
    "ExecuteTime": {
     "end_time": "2021-03-12T18:10:49.000541Z",
     "start_time": "2021-03-12T18:10:48.984915Z"
    }
   },
   "source": [
    "Note this a buffer of one degree as the crs of Brussels is WGS84."
   ]
  },
  {
   "cell_type": "markdown",
   "metadata": {},
   "source": [
    "and now take the intersection, union or difference of those two polygons:"
   ]
  },
  {
   "cell_type": "code",
   "execution_count": null,
   "metadata": {
    "ExecuteTime": {
     "end_time": "2021-03-15T13:57:05.839013Z",
     "start_time": "2021-03-15T13:57:04.479Z"
    }
   },
   "outputs": [],
   "source": [
    "belgium.intersection(brussels.buffer(1))"
   ]
  },
  {
   "cell_type": "code",
   "execution_count": null,
   "metadata": {
    "ExecuteTime": {
     "end_time": "2021-03-15T13:57:05.839013Z",
     "start_time": "2021-03-15T13:57:04.483Z"
    }
   },
   "outputs": [],
   "source": [
    "belgium.union(brussels.buffer(1))"
   ]
  },
  {
   "cell_type": "code",
   "execution_count": null,
   "metadata": {
    "ExecuteTime": {
     "end_time": "2021-03-15T13:57:05.839013Z",
     "start_time": "2021-03-15T13:57:04.489Z"
    }
   },
   "outputs": [],
   "source": [
    "belgium.difference(brussels.buffer(1))"
   ]
  },
  {
   "cell_type": "markdown",
   "metadata": {},
   "source": [
    "Another useful method is the `unary_union` attribute, which converts the set of geometry objects in a GeoDataFrame into a single geometry object by taking the union of all those geometries (~ dissolve in GIS).\n",
    "\n",
    "For example, we can construct a single object for the Africa continent:"
   ]
  },
  {
   "cell_type": "code",
   "execution_count": null,
   "metadata": {
    "ExecuteTime": {
     "end_time": "2021-03-15T13:57:05.839013Z",
     "start_time": "2021-03-15T13:57:04.496Z"
    }
   },
   "outputs": [],
   "source": [
    "africa_countries = countries[countries['continent'] == 'Africa']\n",
    "africa_countries.plot()"
   ]
  },
  {
   "cell_type": "code",
   "execution_count": null,
   "metadata": {
    "ExecuteTime": {
     "end_time": "2021-03-15T13:57:05.839013Z",
     "start_time": "2021-03-15T13:57:04.499Z"
    }
   },
   "outputs": [],
   "source": [
    "africa = africa_countries.unary_union\n",
    "africa"
   ]
  },
  {
   "cell_type": "markdown",
   "metadata": {},
   "source": [
    "<div class=\"alert alert-info\" style=\"font-size:120%\">\n",
    "\n",
    "**REMEMBER**:\n",
    "\n",
    "GeoPandas (and Shapely for the individual objects) provides a whole lot of basic methods to analyse the geospatial data (distance, length, centroid, boundary, convex_hull, simplify, transform, ....), much more than the few that we can touch in this tutorial.\n",
    "\n",
    "\n",
    "* An overview of all methods provided by GeoPandas can be found here: http://geopandas.readthedocs.io/en/latest/reference.html\n",
    "\n",
    "\n",
    "</div>\n",
    "\n"
   ]
  },
  {
   "cell_type": "markdown",
   "metadata": {},
   "source": [
    "### Let's practice!"
   ]
  },
  {
   "cell_type": "markdown",
   "metadata": {},
   "source": [
    "<div class=\"alert alert-success\">\n",
    " <b>EXERCISE: What are the districts close to the Seine?</b>\n",
    " \n",
    " <p>\n",
    " Below, the geodataframe for the Seine river in the neighbourhood of Paris is provided and a visualization of the Seine running through the districts of Paris. \n",
    " </p>\n",
    " \n",
    "  <p>\n",
    " Based on this `seine` object, we want to know which districts are located close (maximum 150 m) to the Seine. \n",
    " </p>\n",
    " \n",
    " \n",
    " <p>\n",
    " <ul>\n",
    "  <li>Create a buffer of 150 m around the Seine.</li>\n",
    "  <li>Check which districts intersect with this buffered object.</li>\n",
    "  <li>Plot these districts.</li>\n",
    " </ul> \n",
    " </p>\n",
    " \n",
    "</div>"
   ]
  },
  {
   "cell_type": "code",
   "execution_count": null,
   "metadata": {
    "ExecuteTime": {
     "end_time": "2021-03-15T13:57:05.839013Z",
     "start_time": "2021-03-15T13:57:04.508Z"
    }
   },
   "outputs": [],
   "source": [
    "# created a line with http://geojson.io\n",
    "seine = geopandas.GeoDataFrame.from_features({\"type\":\"FeatureCollection\",\"features\":[{\"type\":\"Feature\",\"properties\":{},\"geometry\":{\"type\":\"LineString\",\"coordinates\":[[2.408924102783203,48.805619828930226],[2.4092674255371094,48.81703747481909],[2.3927879333496094,48.82325391133874],[2.360687255859375,48.84912860497674],[2.338714599609375,48.85827758964043],[2.318115234375,48.8641501307046],[2.298717498779297,48.863246707697],[2.2913360595703125,48.859519915404825],[2.2594070434570312,48.8311646245967],[2.2436141967773438,48.82325391133874],[2.236919403076172,48.82347994904826],[2.227306365966797,48.828339513221444],[2.2224998474121094,48.83862215329593],[2.2254180908203125,48.84856379804802],[2.2240447998046875,48.85409863123821],[2.230224609375,48.867989496547864],[2.260265350341797,48.89192242750887],[2.300262451171875,48.910203080780285]]}}]},\n",
    "                                               crs={'init': 'epsg:4326'})"
   ]
  },
  {
   "cell_type": "code",
   "execution_count": null,
   "metadata": {
    "ExecuteTime": {
     "end_time": "2021-03-15T13:57:05.839013Z",
     "start_time": "2021-03-15T13:57:04.513Z"
    }
   },
   "outputs": [],
   "source": [
    "import matplotlib.pyplot as plt\n",
    "fig, ax = plt.subplots(figsize=(20, 10))\n",
    "districts.plot(ax=ax, color='grey', alpha=0.4, edgecolor='k')\n",
    "seine.to_crs(epsg=2154).plot(ax=ax)"
   ]
  },
  {
   "cell_type": "code",
   "execution_count": null,
   "metadata": {
    "ExecuteTime": {
     "end_time": "2021-03-15T13:57:05.854632Z",
     "start_time": "2021-03-15T13:57:04.518Z"
    }
   },
   "outputs": [],
   "source": [
    "seine = seine.to_crs(epsg=2154)\n",
    "seine_buffer = seine.geometry.item().buffer(150)\n",
    "districts[districts.intersects(seine_buffer)].plot()"
   ]
  },
  {
   "cell_type": "markdown",
   "metadata": {},
   "source": [
    "## Spatial joins"
   ]
  },
  {
   "cell_type": "markdown",
   "metadata": {},
   "source": [
    "### Recap - joining dataframes\n",
    "\n",
    "Pandas provides functionality to join or merge dataframes in different ways, see https://chrisalbon.com/python/data_wrangling/pandas_join_merge_dataframe/ for an overview and https://pandas.pydata.org/pandas-docs/stable/merging.html for the full documentation."
   ]
  },
  {
   "cell_type": "markdown",
   "metadata": {},
   "source": [
    "To illustrate the concept of joining the information of two dataframes with pandas, let's take a small subset of our `cities` and `countries` datasets: "
   ]
  },
  {
   "cell_type": "code",
   "execution_count": null,
   "metadata": {
    "ExecuteTime": {
     "end_time": "2021-03-15T13:57:05.854632Z",
     "start_time": "2021-03-15T13:57:04.528Z"
    }
   },
   "outputs": [],
   "source": [
    "cities2 = cities[cities['name'].isin(['Bern', 'Brussels', 'London', 'Paris'])].copy()\n",
    "cities2['iso_a3'] = ['CHE', 'BEL', 'GBR', 'FRA']\n",
    "cities2"
   ]
  },
  {
   "cell_type": "code",
   "execution_count": null,
   "metadata": {
    "ExecuteTime": {
     "end_time": "2021-03-15T13:57:05.854632Z",
     "start_time": "2021-03-15T13:57:04.532Z"
    }
   },
   "outputs": [],
   "source": [
    "countries2 = countries[['iso_a3', 'name', 'continent']]\n",
    "countries2.head()"
   ]
  },
  {
   "cell_type": "markdown",
   "metadata": {},
   "source": [
    "We added a 'iso_a3' column to the `cities` dataset, indicating a code of the country of the city. This country code is also present in the `countries` dataset, which allows us to merge those two dataframes based on the common column.\n",
    "\n",
    "Joining the `cities` dataframe with `countries` will transfer extra information about the countries (the full name, the continent) to the `cities` dataframe, based on a common key:"
   ]
  },
  {
   "cell_type": "code",
   "execution_count": null,
   "metadata": {
    "ExecuteTime": {
     "end_time": "2021-03-15T13:57:05.854632Z",
     "start_time": "2021-03-15T13:57:04.537Z"
    }
   },
   "outputs": [],
   "source": [
    "cities2.merge(countries2, on='iso_a3')"
   ]
  },
  {
   "cell_type": "markdown",
   "metadata": {},
   "source": [
    "**But**, for this illustrative example, we used an attribute. Another possibility is joining on the geometry with geopandas! "
   ]
  },
  {
   "cell_type": "markdown",
   "metadata": {
    "slideshow": {
     "slide_type": "slide"
    }
   },
   "source": [
    "## Spatial join operation\n",
    "\n",
    "<div class=\"alert alert-info\" style=\"font-size:120%\">\n",
    "    \n",
    "**SPATIAL JOIN** = *transferring attributes from one layer to another based on their spatial relationship* <br>\n",
    "\n",
    "\n",
    "Different parts of this operations:\n",
    "\n",
    "* The GeoDataFrame to which we want add information\n",
    "* The GeoDataFrame that contains the information we want to add\n",
    "* The spatial relationship we want to use to match both datasets ('intersects', 'contains', 'within')\n",
    "* The type of join: left or inner join\n",
    "\n",
    "\n",
    "![](img/illustration-spatial-join.svg)\n",
    "\n",
    "</div>"
   ]
  },
  {
   "cell_type": "markdown",
   "metadata": {
    "slideshow": {
     "slide_type": "-"
    }
   },
   "source": [
    "In this case, we want to join the `cities` dataframe with the information of the `countries` dataframe, based on the spatial relationship between both datasets.\n",
    "\n",
    "We use the [`geopandas.sjoin`](http://geopandas.readthedocs.io/en/latest/reference/geopandas.sjoin.html) function:"
   ]
  },
  {
   "cell_type": "code",
   "execution_count": null,
   "metadata": {
    "ExecuteTime": {
     "end_time": "2021-03-15T13:57:05.854632Z",
     "start_time": "2021-03-15T13:57:04.546Z"
    }
   },
   "outputs": [],
   "source": [
    "joined = geopandas.sjoin(cities, countries, op='within', how='left')"
   ]
  },
  {
   "cell_type": "code",
   "execution_count": null,
   "metadata": {
    "ExecuteTime": {
     "end_time": "2021-03-15T13:57:05.854632Z",
     "start_time": "2021-03-15T13:57:04.549Z"
    }
   },
   "outputs": [],
   "source": [
    "joined.head(1)"
   ]
  },
  {
   "cell_type": "code",
   "execution_count": null,
   "metadata": {
    "ExecuteTime": {
     "end_time": "2021-03-15T13:57:05.854632Z",
     "start_time": "2021-03-15T13:57:04.552Z"
    }
   },
   "outputs": [],
   "source": [
    "joined['continent'].value_counts()"
   ]
  },
  {
   "cell_type": "markdown",
   "metadata": {},
   "source": [
    "### Lets's practice!\n",
    "\n",
    "We will again use the Paris datasets `districts`and `stations` to do some exercises. Let's start importing them again:"
   ]
  },
  {
   "cell_type": "code",
   "execution_count": null,
   "metadata": {
    "ExecuteTime": {
     "end_time": "2021-03-15T13:57:05.854632Z",
     "start_time": "2021-03-15T13:57:04.558Z"
    }
   },
   "outputs": [],
   "source": [
    "districts = geopandas.read_file(\"data/paris_districts.geojson\").to_crs(epsg=2154)\n",
    "stations = geopandas.read_file(\"data/paris_bike_stations.geojson\").to_crs(epsg=2154)"
   ]
  },
  {
   "cell_type": "markdown",
   "metadata": {},
   "source": [
    "<div class=\"alert alert-success\">\n",
    "\n",
    "**EXERCISE:**\n",
    "\n",
    "* Determine for each bike station in which district it is located (using a spatial join!). Call the result `joined`.\n",
    "\n",
    "</div>"
   ]
  },
  {
   "cell_type": "code",
   "execution_count": null,
   "metadata": {
    "ExecuteTime": {
     "end_time": "2021-03-15T13:57:05.854632Z",
     "start_time": "2021-03-15T13:57:04.565Z"
    }
   },
   "outputs": [],
   "source": [
    "joined = geopandas.sjoin(stations, districts[['district_name','geometry']], op='within',how='left')\n",
    "joined.head()"
   ]
  },
  {
   "cell_type": "markdown",
   "metadata": {},
   "source": [
    "<div class=\"alert alert-success\">\n",
    "\n",
    "**EXERCISE: Map of tree density by district (I)**\n",
    "\n",
    "Using a dataset of all trees in public spaces in Paris, the goal is to make a map of the tree density by district. For this, we first need to find out how many trees each district contains, which we will do in this exercise. In the following exercise, we will then use this result to calculate the density and create a map.\n",
    "\n",
    "To obtain the tree count by district, we first need to know in which district each tree is located, which we can do with a spatial join. Then, using the result of the spatial join, we will calculate the number of trees located in each district using the pandas 'group-by' functionality.\n",
    "\n",
    "- Import the trees dataset `\"data/paris_trees.gpkg\"` and call the result `trees`. Convert the districts dataset to the same CRS as the trees dataset and call it `districtsCRST`.\n",
    "- Add a column with the `'district_name'` to the trees dataset using a spatial join. Call the result `joined`.\n",
    "\n",
    "</div>"
   ]
  },
  {
   "cell_type": "code",
   "execution_count": null,
   "metadata": {
    "ExecuteTime": {
     "end_time": "2021-03-15T13:57:05.870254Z",
     "start_time": "2021-03-15T13:57:04.572Z"
    }
   },
   "outputs": [],
   "source": [
    "trees = geopandas.read_file(\"data/paris_trees.gpkg\")\n",
    "districtsCRST = districts.to_crs(trees.crs)\n",
    "joined = geopandas.sjoin(trees,districtsCRST[['district_name','geometry']],op='within',how='left')\n",
    "joined.head()"
   ]
  },
  {
   "cell_type": "markdown",
   "metadata": {},
   "source": [
    "<div class=\"alert alert-success\">\n",
    "\n",
    "**EXERCISE: Map of tree density by district (II)**\n",
    "\n",
    "- Calculate the number of trees located in each district: group the `joined` DataFrame by the `'district_name'` column, and calculate the size of each group. We convert the resulting Series `trees_by_district` to a DataFrame with columns `district_name` and `n_trees` for the next exercise.\n",
    "\n",
    "<details><summary>Hints</summary>\n",
    "\n",
    "- look into the `groupby` and `to_frame` methods of pandas.\n",
    "\n",
    "\n",
    "</details>\n",
    "\n",
    "</div>"
   ]
  },
  {
   "cell_type": "code",
   "execution_count": null,
   "metadata": {
    "ExecuteTime": {
     "end_time": "2021-03-15T13:57:05.870254Z",
     "start_time": "2021-03-15T13:57:04.579Z"
    }
   },
   "outputs": [],
   "source": [
    "trees_by_district = joined.groupby('district_name').size()\n",
    "trees_by_district = trees_by_district.to_frame(name='n_trees')"
   ]
  },
  {
   "cell_type": "markdown",
   "metadata": {},
   "source": [
    "<div class=\"alert alert-success\">\n",
    "\n",
    "**EXERCISE: Map of tree density by district (III)**\n",
    "\n",
    "Now we have obtained the number of trees by district, we can make the map of the districts colored by the tree density.\n",
    "\n",
    "For this, we first need to merge the number of trees in each district we calculated in the previous step (`trees_by_district`) back to the districts dataset. We will use the [`pd.merge()`](https://pandas.pydata.org/pandas-docs/stable/reference/api/pandas.merge.html) function to join two dataframes based on a common column.\n",
    "\n",
    "Since not all districts have the same size, it is a fairer comparison to visualize the tree density: the number of trees relative to the area.\n",
    "\n",
    "- Use the `pd.merge()` function to merge `districts` and `trees_by_district` dataframes on the `'district_name'` column. Call the result `districts_trees`.\n",
    "- Add a column `'n_trees_per_area'` to the `districts_trees` dataframe, based on the `'n_trees'` column divided by the area.\n",
    "- Make a plot of the `districts_trees` dataframe, using the `'n_trees_per_area'` column to determine the color of the polygons.\n",
    "\n",
    "</div>"
   ]
  },
  {
   "cell_type": "code",
   "execution_count": null,
   "metadata": {
    "ExecuteTime": {
     "end_time": "2021-03-15T13:57:05.870254Z",
     "start_time": "2021-03-15T13:57:04.586Z"
    }
   },
   "outputs": [],
   "source": [
    "districts_trees = pd.merge(districts,trees_by_district, on='district_name')"
   ]
  },
  {
   "cell_type": "code",
   "execution_count": null,
   "metadata": {
    "ExecuteTime": {
     "end_time": "2021-03-15T13:57:05.870254Z",
     "start_time": "2021-03-15T13:57:04.591Z"
    }
   },
   "outputs": [],
   "source": [
    "districts_trees['n_trees_per_area'] = districts_trees['n_trees']/districts_trees.geometry.area"
   ]
  },
  {
   "cell_type": "code",
   "execution_count": null,
   "metadata": {
    "ExecuteTime": {
     "end_time": "2021-03-15T13:57:05.870254Z",
     "start_time": "2021-03-15T13:57:04.595Z"
    }
   },
   "outputs": [],
   "source": [
    "ax = districts_trees.plot(column='n_trees_per_area')\n",
    "ax.set_axis_off()"
   ]
  },
  {
   "cell_type": "markdown",
   "metadata": {},
   "source": [
    "### The overlay operation\n",
    "\n",
    "In the spatial join operation above, we are not changing the geometries itself. We are not joining geometries, but joining attributes based on a spatial relationship between the geometries. \n",
    "If you want to create new geometries based on joining (combining) geometries of different dataframes into one new dataframe (eg by taking the intersection of the geometries), you want an **overlay** operation, like in the example below."
   ]
  },
  {
   "cell_type": "code",
   "execution_count": null,
   "metadata": {
    "ExecuteTime": {
     "end_time": "2021-03-15T13:57:05.870254Z",
     "start_time": "2021-03-15T13:57:04.601Z"
    }
   },
   "outputs": [],
   "source": [
    "africa = countries[countries['continent'] == 'Africa']"
   ]
  },
  {
   "cell_type": "code",
   "execution_count": null,
   "metadata": {
    "ExecuteTime": {
     "end_time": "2021-03-15T13:57:05.870254Z",
     "start_time": "2021-03-15T13:57:04.606Z"
    }
   },
   "outputs": [],
   "source": [
    "africa.plot()"
   ]
  },
  {
   "cell_type": "code",
   "execution_count": null,
   "metadata": {
    "ExecuteTime": {
     "end_time": "2021-03-15T13:57:05.870254Z",
     "start_time": "2021-03-15T13:57:04.609Z"
    }
   },
   "outputs": [],
   "source": [
    "cities['geometry'] = cities.buffer(2)"
   ]
  },
  {
   "cell_type": "code",
   "execution_count": null,
   "metadata": {
    "ExecuteTime": {
     "end_time": "2021-03-15T13:57:05.885875Z",
     "start_time": "2021-03-15T13:57:04.614Z"
    }
   },
   "outputs": [],
   "source": [
    "geopandas.overlay(africa, cities, how='difference').plot()"
   ]
  },
  {
   "cell_type": "markdown",
   "metadata": {},
   "source": [
    "<div class=\"alert alert-info\" style=\"font-size:120%\">\n",
    "<b>REMEMBER</b> <br>\n",
    "\n",
    "* **Spatial join**: transfer attributes from one dataframe to another based on the spatial relationship\n",
    "* **Spatial overlay**: construct new geometries based on spatial operation between both dataframes (and combining attributes of both dataframes)\n",
    "\n",
    "</div>"
   ]
  },
  {
   "cell_type": "markdown",
   "metadata": {},
   "source": [
    "<div class=\"alert alert-success\">\n",
    "\n",
    "**EXERCISE: Exploring a Land Use dataset**\n",
    "\n",
    "For the following exercises, we first introduce a new dataset: a dataset about the land use of Paris (a simplified version based on the open European [Urban Atlas](https://land.copernicus.eu/local/urban-atlas)). The land use indicates for what kind of activity a certain area is used, such as residential area or for recreation. It is a polygon dataset, with a label representing the land use class for different areas in Paris.\n",
    "\n",
    "In this exercise, we will read the data, explore it visually, and calculate the total area of the different classes of land use in the area of Paris.\n",
    "\n",
    "* Read in the zip file with this path: `'zip://./data/paris_land_use.zip'` and assign the result to a variable `land_use`.\n",
    "* Make a plot of `land_use`, using the `'class'` column to color the polygons. We also add a legend. Note: it might take a few seconds for the plot to generate because there are a lot of polygons.\n",
    "* Add a new column `'area'` with the area of each polygon.\n",
    "* Calculate the total area in km² for each `'class'` using the `groupby()` method, and print the result.\n",
    "\n",
    "</div>"
   ]
  },
  {
   "cell_type": "code",
   "execution_count": null,
   "metadata": {
    "ExecuteTime": {
     "end_time": "2021-03-15T13:57:05.885875Z",
     "start_time": "2021-03-15T13:57:04.620Z"
    }
   },
   "outputs": [],
   "source": [
    "land_use = geopandas.read_file('zip://./data/paris_land_use.zip')\n",
    "land_use.plot(column='class',legend=True)"
   ]
  },
  {
   "cell_type": "code",
   "execution_count": null,
   "metadata": {
    "ExecuteTime": {
     "end_time": "2021-03-15T13:57:05.885875Z",
     "start_time": "2021-03-15T13:57:04.623Z"
    }
   },
   "outputs": [],
   "source": [
    "land_use['area']=land_use.geometry.area\n",
    "land_use.groupby('class')[['class','area']].sum()/1000**2"
   ]
  },
  {
   "cell_type": "markdown",
   "metadata": {},
   "source": [
    "<div class=\"alert alert-success\">\n",
    "\n",
    "**EXERCISE: Intersection of two polygons**\n",
    "\n",
    "For this exercise, we are going to use 2 individual polygons: the district of Muette extracted from the `districts` dataset, and the green urban area of Boulogne, a large public park in the west of Paris, extracted from the `land_use` dataset. The two polygons have already been assigned to the `muette` and `park_boulogne` variables.\n",
    "\n",
    "We first visualize the two polygons. You will see that they overlap, but the park is not fully located in the district of Muette. Let's determine the overlapping part.\n",
    "\n",
    "* Calculate the intersection of the `park_boulogne` and `muette` polygons.\n",
    "* Print the proportion of the area of the district that is occupied by the park.\n",
    "\n",
    "<details><summary>Hints</summary>\n",
    "\n",
    "* You do not need to use the overlay here, the intersection of two scalar polygons can be calculated with the `intersection()` method of one of the polygons, and passing the other polygon as the argument to that method.\n",
    "\n",
    "</details>\n",
    "\n",
    "</div>"
   ]
  },
  {
   "cell_type": "code",
   "execution_count": null,
   "metadata": {
    "ExecuteTime": {
     "end_time": "2021-03-15T13:57:05.885875Z",
     "start_time": "2021-03-15T13:57:04.628Z"
    },
    "scrolled": true
   },
   "outputs": [],
   "source": [
    "#read datasets\n",
    "land_use = geopandas.read_file(\"zip://./data/paris_land_use.zip\")\n",
    "districts = geopandas.read_file(\"data/paris_districts.geojson\").to_crs(land_use.crs)\n",
    "# extract polygons\n",
    "land_use['area'] = land_use.geometry.area\n",
    "park_boulogne = land_use[land_use['class'] == \"Green urban areas\"].sort_values('area').geometry.iloc[-1]\n",
    "muette = districts[districts.district_name == 'Muette'].geometry.squeeze()\n",
    "# Plot the two polygons\n",
    "geopandas.GeoSeries([park_boulogne, muette]).plot(alpha=0.5, color=['green', 'blue'])"
   ]
  },
  {
   "cell_type": "code",
   "execution_count": null,
   "metadata": {
    "ExecuteTime": {
     "end_time": "2021-03-15T13:57:05.892382Z",
     "start_time": "2021-03-15T13:57:04.630Z"
    },
    "scrolled": true
   },
   "outputs": [],
   "source": [
    "intersection = park_boulogne.intersection(muette)\n",
    "intersection.area/muette.area*100"
   ]
  },
  {
   "cell_type": "markdown",
   "metadata": {},
   "source": [
    "<div class=\"alert alert-success\">\n",
    "\n",
    "**EXERCISE: Intersecting a GeoDataFrame with a Polygon**\n",
    "\n",
    "Combining the land use dataset and the districts dataset, we can now investigate what the land use is in a certain district.\n",
    "\n",
    "For that, we first need to determine the intersection of the land use dataset with a given district. Let's take again the *Muette* district as example case.\n",
    "\n",
    "* Calculate the intersection of the `land_use` polygons with the single `muette` polygon. Call the result `land_use_muette`.\n",
    "* Make a quick plot of this intersection, and pass `edgecolor='black'` to more clearly see the boundaries of the different polygons.\n",
    "* Print the first five rows of `land_use_muette`.\n",
    "\n",
    "<details><summary>Hints</summary>\n",
    "\n",
    "* The intersection of each geometry of a GeoSeries with another single geometry can be performed with the `intersection()` method of a GeoSeries.\n",
    "* The `intersection()` method takes as argument the geometry for which to calculate the intersection.\n",
    "\n",
    "</details>\n",
    "\n",
    "</div>"
   ]
  },
  {
   "cell_type": "code",
   "execution_count": null,
   "metadata": {
    "ExecuteTime": {
     "end_time": "2021-03-15T13:57:05.892382Z",
     "start_time": "2021-03-15T13:57:04.636Z"
    }
   },
   "outputs": [],
   "source": [
    "land_use_muette = land_use.intersection(muette)"
   ]
  },
  {
   "cell_type": "code",
   "execution_count": null,
   "metadata": {
    "ExecuteTime": {
     "end_time": "2021-03-15T13:57:05.892382Z",
     "start_time": "2021-03-15T13:57:04.639Z"
    }
   },
   "outputs": [],
   "source": [
    "land_use_muette.plot(edgecolor='black')"
   ]
  },
  {
   "cell_type": "code",
   "execution_count": null,
   "metadata": {
    "ExecuteTime": {
     "end_time": "2021-03-15T13:57:05.892382Z",
     "start_time": "2021-03-15T13:57:04.642Z"
    }
   },
   "outputs": [],
   "source": [
    "land_use_muette.head()"
   ]
  },
  {
   "cell_type": "markdown",
   "metadata": {},
   "source": [
    "You can see in the plot that we now only have a subset of the full land use dataset. The `land_use_muette` still has the same number of rows as the original `land_use`, though. But many of the rows, as you could see by printing the first rows, consist now of empty polygons when it did not intersect with the Muette district."
   ]
  },
  {
   "cell_type": "markdown",
   "metadata": {},
   "source": [
    "<div class=\"alert alert-success\">\n",
    "\n",
    "**EXERCISE: Overlaying spatial datasets**\n",
    "\n",
    "We will now combine both datasets in an overlay operation. Create a new `GeoDataFrame` consisting of the intersection of the land use polygons wich each of the districts, but make sure to bring the attribute data from both source layers.\n",
    "\n",
    "Once we created the overlay of the land use and districts datasets, we can more easily inspect the land use for the different districts. Let's get back to the example district of Muette, and inspect the land use of that district.\n",
    "\n",
    "* Create a new GeoDataFrame from the intersections of `land_use` and `districts`. Assign the result to a variable `combined`.\n",
    "* Print the first rows of the resulting GeoDataFrame (`combined`).\n",
    "* Add a new column `'area'` with the area of each polygon to the `combined` GeoDataFrame.\n",
    "* Create a subset called `land_use_muette` where the `'district_name'` is equal to \"Muette\".\n",
    "* Make a plot of `land_use_muette`, using the `'class'` column to color the polygons.\n",
    "* Calculate the total area in km² for each `'class'` of `land_use_muette` using the `groupby()` method, and print the result.\n",
    "\n",
    "<details><summary>Hints</summary>\n",
    "\n",
    "* The intersection of two GeoDataFrames can be calculated with the `geopandas.overlay()` function.\n",
    "</details>\n",
    "\n",
    "</div>"
   ]
  },
  {
   "cell_type": "code",
   "execution_count": null,
   "metadata": {
    "ExecuteTime": {
     "end_time": "2021-03-15T13:57:05.892382Z",
     "start_time": "2021-03-15T13:57:04.648Z"
    }
   },
   "outputs": [],
   "source": [
    "combined = geopandas.overlay(land_use,districts,how='intersection')\n",
    "combined.head()"
   ]
  },
  {
   "cell_type": "code",
   "execution_count": null,
   "metadata": {
    "ExecuteTime": {
     "end_time": "2021-03-15T13:57:05.892382Z",
     "start_time": "2021-03-15T13:57:04.652Z"
    }
   },
   "outputs": [],
   "source": [
    "combined['area']=combined.geometry.area\n",
    "land_use_muette = combined[combined['district_name']=='Muette']"
   ]
  },
  {
   "cell_type": "code",
   "execution_count": null,
   "metadata": {
    "ExecuteTime": {
     "end_time": "2021-03-15T13:57:05.892382Z",
     "start_time": "2021-03-15T13:57:04.656Z"
    }
   },
   "outputs": [],
   "source": [
    "land_use_muette.plot(column='class')"
   ]
  },
  {
   "cell_type": "code",
   "execution_count": null,
   "metadata": {
    "ExecuteTime": {
     "end_time": "2021-03-15T13:57:05.908011Z",
     "start_time": "2021-03-15T13:57:04.659Z"
    },
    "scrolled": true
   },
   "outputs": [],
   "source": [
    "land_use_muette.groupby('class')['area'].sum()/ 1000**2"
   ]
  },
  {
   "cell_type": "markdown",
   "metadata": {},
   "source": [
    "By overlaying, there are no empty geometries created in the original dataframe (as is the case with the intersection), but a new one is made with new polygons, which is easier for calculations. "
   ]
  }
 ],
 "metadata": {
  "kernelspec": {
   "display_name": "Python 3",
   "language": "python",
   "name": "python3"
  },
  "language_info": {
   "codemirror_mode": {
    "name": "ipython",
    "version": 3
   },
   "file_extension": ".py",
   "mimetype": "text/x-python",
   "name": "python",
   "nbconvert_exporter": "python",
   "pygments_lexer": "ipython3",
   "version": "3.6.10"
  }
 },
 "nbformat": 4,
 "nbformat_minor": 4
}
